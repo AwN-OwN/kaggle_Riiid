{
 "cells": [
  {
   "cell_type": "code",
   "execution_count": 1,
   "metadata": {
    "_cell_guid": "b1076dfc-b9ad-4769-8c92-a6c4dae69d19",
    "_uuid": "8f2839f25d086af736a60e9eeb907d3b93b6e0e5",
    "execution": {
     "iopub.execute_input": "2020-12-13T06:49:56.950133Z",
     "iopub.status.busy": "2020-12-13T06:49:56.948920Z",
     "iopub.status.idle": "2020-12-13T06:49:56.981474Z",
     "shell.execute_reply": "2020-12-13T06:49:56.980688Z"
    },
    "papermill": {
     "duration": 0.083179,
     "end_time": "2020-12-13T06:49:56.981797",
     "exception": false,
     "start_time": "2020-12-13T06:49:56.898618",
     "status": "completed"
    },
    "tags": []
   },
   "outputs": [
    {
     "name": "stdout",
     "output_type": "stream",
     "text": [
      "/kaggle/input/riiid-test-answer-prediction/example_sample_submission.csv\n",
      "/kaggle/input/riiid-test-answer-prediction/example_test.csv\n",
      "/kaggle/input/riiid-test-answer-prediction/questions.csv\n",
      "/kaggle/input/riiid-test-answer-prediction/train.csv\n",
      "/kaggle/input/riiid-test-answer-prediction/lectures.csv\n",
      "/kaggle/input/riiid-test-answer-prediction/riiideducation/competition.cpython-37m-x86_64-linux-gnu.so\n",
      "/kaggle/input/riiid-test-answer-prediction/riiideducation/__init__.py\n"
     ]
    }
   ],
   "source": [
    "# This Python 3 environment comes with many helpful analytics libraries installed\n",
    "# It is defined by the kaggle/python Docker image: https://github.com/kaggle/docker-python\n",
    "# For example, here's several helpful packages to load\n",
    "\n",
    "import numpy as np # linear algebra\n",
    "import pandas as pd # data processing, CSV file I/O (e.g. pd.read_csv)\n",
    "import riiideducation\n",
    "\n",
    "# Input data files are available in the read-only \"../input/\" directory\n",
    "# For example, running this (by clicking run or pressing Shift+Enter) will list all files under the input directory\n",
    "\n",
    "import os\n",
    "for dirname, _, filenames in os.walk('/kaggle/input'):\n",
    "    for filename in filenames:\n",
    "        print(os.path.join(dirname, filename))\n",
    "\n",
    "# You can write up to 5GB to the current directory (/kaggle/working/) that gets preserved as output when you create a version using \"Save & Run All\" \n",
    "# You can also write temporary files to /kaggle/temp/, but they won't be saved outside of the current session"
   ]
  },
  {
   "cell_type": "code",
   "execution_count": 2,
   "metadata": {
    "execution": {
     "iopub.execute_input": "2020-12-13T06:49:57.067579Z",
     "iopub.status.busy": "2020-12-13T06:49:57.066443Z",
     "iopub.status.idle": "2020-12-13T06:49:57.071642Z",
     "shell.execute_reply": "2020-12-13T06:49:57.072314Z"
    },
    "papermill": {
     "duration": 0.050516,
     "end_time": "2020-12-13T06:49:57.072525",
     "exception": false,
     "start_time": "2020-12-13T06:49:57.022009",
     "status": "completed"
    },
    "tags": []
   },
   "outputs": [],
   "source": [
    "# You can only call make_env() once, so don't lose it!\n",
    "env = riiideducation.make_env()"
   ]
  },
  {
   "cell_type": "code",
   "execution_count": 3,
   "metadata": {
    "execution": {
     "iopub.execute_input": "2020-12-13T06:49:57.157560Z",
     "iopub.status.busy": "2020-12-13T06:49:57.156683Z",
     "iopub.status.idle": "2020-12-13T06:49:57.161197Z",
     "shell.execute_reply": "2020-12-13T06:49:57.160329Z"
    },
    "papermill": {
     "duration": 0.047855,
     "end_time": "2020-12-13T06:49:57.161354",
     "exception": false,
     "start_time": "2020-12-13T06:49:57.113499",
     "status": "completed"
    },
    "tags": []
   },
   "outputs": [],
   "source": [
    "# You can only iterate through a result from `env.iter_test()` once\n",
    "# so be careful not to lose it once you start iterating.\n",
    "iter_test = env.iter_test()"
   ]
  },
  {
   "cell_type": "code",
   "execution_count": 4,
   "metadata": {
    "execution": {
     "iopub.execute_input": "2020-12-13T06:49:57.253746Z",
     "iopub.status.busy": "2020-12-13T06:49:57.252357Z",
     "iopub.status.idle": "2020-12-13T06:50:01.032270Z",
     "shell.execute_reply": "2020-12-13T06:50:01.031284Z"
    },
    "papermill": {
     "duration": 3.832879,
     "end_time": "2020-12-13T06:50:01.032423",
     "exception": false,
     "start_time": "2020-12-13T06:49:57.199544",
     "status": "completed"
    },
    "tags": []
   },
   "outputs": [],
   "source": [
    "from sklearn.model_selection import train_test_split\n",
    "import sklearn.metrics as metrics\n",
    "from sklearn.impute import SimpleImputer\n",
    "from sklearn.ensemble import RandomForestClassifier\n",
    "import xgboost as xgb\n",
    "import matplotlib.pyplot as plt\n",
    "import shap"
   ]
  },
  {
   "cell_type": "code",
   "execution_count": 5,
   "metadata": {
    "execution": {
     "iopub.execute_input": "2020-12-13T06:50:01.122622Z",
     "iopub.status.busy": "2020-12-13T06:50:01.121775Z",
     "iopub.status.idle": "2020-12-13T06:50:01.125321Z",
     "shell.execute_reply": "2020-12-13T06:50:01.124734Z"
    },
    "papermill": {
     "duration": 0.052247,
     "end_time": "2020-12-13T06:50:01.125481",
     "exception": false,
     "start_time": "2020-12-13T06:50:01.073234",
     "status": "completed"
    },
    "tags": []
   },
   "outputs": [],
   "source": [
    "#Setting global variables \n",
    "missing_column_limit = 0.6\n",
    "random_seed = 0\n",
    "train_size = 0.8\n",
    "test_size = 1-train_size\n",
    "max_cat_col_dim = 10\n",
    "num_imp_str = 'median'\n",
    "cat_imp_str = 'most_frequent'\n",
    "oh_cosider_na = True  #do we consider NaN values while OH encoding \n",
    "xgb_threshold = 0.65\n",
    "\n",
    "#RandomForest Citerion\n",
    "rand_forest_crit = 'gini'\n",
    "\n",
    "#training sample \n",
    "train_sample = 2000000\n",
    "\n",
    "#XGBoost parameters\n",
    "xgb_param = {\n",
    "    'eta': 0.3, \n",
    "    'max_depth': 10,  \n",
    "    'objective': 'binary:logistic',\n",
    "    'eval_metric' :'auc'\n",
    "}"
   ]
  },
  {
   "cell_type": "code",
   "execution_count": 6,
   "metadata": {
    "execution": {
     "iopub.execute_input": "2020-12-13T06:50:01.207932Z",
     "iopub.status.busy": "2020-12-13T06:50:01.207151Z",
     "iopub.status.idle": "2020-12-13T06:55:52.665855Z",
     "shell.execute_reply": "2020-12-13T06:55:52.666519Z"
    },
    "papermill": {
     "duration": 351.505711,
     "end_time": "2020-12-13T06:55:52.666701",
     "exception": false,
     "start_time": "2020-12-13T06:50:01.160990",
     "status": "completed"
    },
    "tags": []
   },
   "outputs": [
    {
     "name": "stdout",
     "output_type": "stream",
     "text": [
      "<class 'pandas.core.frame.DataFrame'>\n",
      "Int64Index: 101230332 entries, 0 to 101230331\n",
      "Data columns (total 9 columns):\n",
      " #   Column                          Dtype  \n",
      "---  ------                          -----  \n",
      " 0   timestamp                       int64  \n",
      " 1   user_id                         int32  \n",
      " 2   content_id                      int16  \n",
      " 3   content_type_id                 int8   \n",
      " 4   task_container_id               int16  \n",
      " 5   user_answer                     int8   \n",
      " 6   answered_correctly              int8   \n",
      " 7   prior_question_elapsed_time     float32\n",
      " 8   prior_question_had_explanation  boolean\n",
      "dtypes: boolean(1), float32(1), int16(2), int32(1), int64(1), int8(3)\n",
      "memory usage: 3.1 GB\n"
     ]
    }
   ],
   "source": [
    "train = pd.read_csv('/kaggle/input/riiid-test-answer-prediction/train.csv',  \n",
    "                       dtype={'row_id': 'int64', 'timestamp': 'int64', 'user_id': 'int32', 'content_id': 'int16', 'content_type_id': 'int8',\n",
    "                              'task_container_id': 'int16', 'user_answer': 'int8', 'answered_correctly': 'int8', 'prior_question_elapsed_time': 'float32', \n",
    "                             'prior_question_had_explanation': 'boolean',\n",
    "                             }\n",
    "                      )\n",
    "train = train.set_index('row_id')\n",
    "train.info()"
   ]
  },
  {
   "cell_type": "code",
   "execution_count": 7,
   "metadata": {
    "execution": {
     "iopub.execute_input": "2020-12-13T06:55:52.747389Z",
     "iopub.status.busy": "2020-12-13T06:55:52.746632Z",
     "iopub.status.idle": "2020-12-13T06:55:52.750684Z",
     "shell.execute_reply": "2020-12-13T06:55:52.749933Z"
    },
    "papermill": {
     "duration": 0.045574,
     "end_time": "2020-12-13T06:55:52.750805",
     "exception": false,
     "start_time": "2020-12-13T06:55:52.705231",
     "status": "completed"
    },
    "tags": []
   },
   "outputs": [],
   "source": [
    "#lectures = pd.read_csv('/kaggle/input/riiid-test-answer-prediction/lectures.csv')\n",
    "#lectures = lectures.set_index('lecture_id')\n",
    "#lectures.info()"
   ]
  },
  {
   "cell_type": "code",
   "execution_count": 8,
   "metadata": {
    "execution": {
     "iopub.execute_input": "2020-12-13T06:55:52.835080Z",
     "iopub.status.busy": "2020-12-13T06:55:52.834255Z",
     "iopub.status.idle": "2020-12-13T06:55:52.870159Z",
     "shell.execute_reply": "2020-12-13T06:55:52.869266Z"
    },
    "papermill": {
     "duration": 0.082639,
     "end_time": "2020-12-13T06:55:52.870319",
     "exception": false,
     "start_time": "2020-12-13T06:55:52.787680",
     "status": "completed"
    },
    "tags": []
   },
   "outputs": [
    {
     "name": "stdout",
     "output_type": "stream",
     "text": [
      "<class 'pandas.core.frame.DataFrame'>\n",
      "RangeIndex: 13523 entries, 0 to 13522\n",
      "Data columns (total 5 columns):\n",
      " #   Column          Non-Null Count  Dtype \n",
      "---  ------          --------------  ----- \n",
      " 0   content_id      13523 non-null  int64 \n",
      " 1   bundle_id       13523 non-null  int64 \n",
      " 2   correct_answer  13523 non-null  int64 \n",
      " 3   part            13523 non-null  int64 \n",
      " 4   tags            13522 non-null  object\n",
      "dtypes: int64(4), object(1)\n",
      "memory usage: 528.4+ KB\n"
     ]
    }
   ],
   "source": [
    "questions = pd.read_csv('/kaggle/input/riiid-test-answer-prediction/questions.csv')\n",
    "questions = questions.rename(columns = {'question_id':'content_id'})\n",
    "questions.info()"
   ]
  },
  {
   "cell_type": "code",
   "execution_count": 9,
   "metadata": {
    "execution": {
     "iopub.execute_input": "2020-12-13T06:55:52.962573Z",
     "iopub.status.busy": "2020-12-13T06:55:52.961688Z",
     "iopub.status.idle": "2020-12-13T06:55:52.965909Z",
     "shell.execute_reply": "2020-12-13T06:55:52.965244Z"
    },
    "papermill": {
     "duration": 0.053755,
     "end_time": "2020-12-13T06:55:52.966135",
     "exception": false,
     "start_time": "2020-12-13T06:55:52.912380",
     "status": "completed"
    },
    "tags": []
   },
   "outputs": [],
   "source": [
    "def get_null_columns(data, limit):\n",
    "    perc_missing = (data.count()/len(data)) \n",
    "    drop_cols_data = perc_missing[perc_missing < limit]\n",
    "    drop_cols = drop_cols_data.index.tolist()\n",
    "    print('---We will drop these columns---\\n') \n",
    "    print(str(drop_cols_data)+'\\n\\n---------------------------------\\n\\n')\n",
    "\n",
    "    impute_cols_data = perc_missing[(perc_missing >= limit)&(perc_missing < 1)]\n",
    "    impute_cols = impute_cols_data.index.tolist()\n",
    "    print('---We will impute these columns---\\n') \n",
    "    print(str(impute_cols_data)+'\\n\\n---------------------------------\\n\\n')\n",
    "    return(drop_cols, impute_cols)"
   ]
  },
  {
   "cell_type": "code",
   "execution_count": 10,
   "metadata": {
    "execution": {
     "iopub.execute_input": "2020-12-13T06:55:53.059055Z",
     "iopub.status.busy": "2020-12-13T06:55:53.057841Z",
     "iopub.status.idle": "2020-12-13T06:55:53.061660Z",
     "shell.execute_reply": "2020-12-13T06:55:53.060834Z"
    },
    "papermill": {
     "duration": 0.057122,
     "end_time": "2020-12-13T06:55:53.061807",
     "exception": false,
     "start_time": "2020-12-13T06:55:53.004685",
     "status": "completed"
    },
    "tags": []
   },
   "outputs": [],
   "source": [
    "def get_cat_cols(data):\n",
    "    low_dim_cat_col = [col for col in data.columns \n",
    "                         if ((data[col].dtype == 'object') and \n",
    "                         (data[col].nunique() < max_cat_col_dim))] \n",
    "    high_dim_cat_col = [col for col in data.columns \n",
    "                         if ((data[col].dtype == 'object') and \n",
    "                         (data[col].nunique() >= max_cat_col_dim))] \n",
    "    print('Low dimentional Categorical colums are : ' + str(low_dim_cat_col))\n",
    "    print('\\n\\nHigh dimentional Categorical colums are : ' + str(high_dim_cat_col))\n",
    "    print('\\n\\n')\n",
    "    return(low_dim_cat_col, high_dim_cat_col)"
   ]
  },
  {
   "cell_type": "code",
   "execution_count": 11,
   "metadata": {
    "execution": {
     "iopub.execute_input": "2020-12-13T06:55:53.147010Z",
     "iopub.status.busy": "2020-12-13T06:55:53.146043Z",
     "iopub.status.idle": "2020-12-13T06:55:53.149617Z",
     "shell.execute_reply": "2020-12-13T06:55:53.148937Z"
    },
    "papermill": {
     "duration": 0.048635,
     "end_time": "2020-12-13T06:55:53.149741",
     "exception": false,
     "start_time": "2020-12-13T06:55:53.101106",
     "status": "completed"
    },
    "tags": []
   },
   "outputs": [],
   "source": [
    "def get_train_split(X, y):\n",
    "    X_train , X_valid, y_train ,y_valid = train_test_split(X, y, train_size = train_size, \n",
    "                                                           test_size = test_size, random_state = random_seed)\n",
    "    return(X_train, X_valid, y_train, y_valid)"
   ]
  },
  {
   "cell_type": "code",
   "execution_count": 12,
   "metadata": {
    "execution": {
     "iopub.execute_input": "2020-12-13T06:55:53.236256Z",
     "iopub.status.busy": "2020-12-13T06:55:53.235063Z",
     "iopub.status.idle": "2020-12-13T06:55:53.238315Z",
     "shell.execute_reply": "2020-12-13T06:55:53.238927Z"
    },
    "papermill": {
     "duration": 0.051391,
     "end_time": "2020-12-13T06:55:53.239126",
     "exception": false,
     "start_time": "2020-12-13T06:55:53.187735",
     "status": "completed"
    },
    "tags": []
   },
   "outputs": [],
   "source": [
    "def get_roc_data(y_valid,pred):\n",
    "    fpr, tpr, threshold = metrics.roc_curve(y_valid, pred)\n",
    "    roc_auc = metrics.auc(fpr, tpr)\n",
    "    plt.plot(fpr,tpr)\n",
    "    plt.plot([0,1],[0,1], '--')\n",
    "    plt.xlabel('FPR: False positive rate')\n",
    "    plt.ylabel('TPR: True positive rate')\n",
    "    plt.grid()\n",
    "    #plt.legend()\n",
    "    return(roc_auc)"
   ]
  },
  {
   "cell_type": "code",
   "execution_count": 13,
   "metadata": {
    "execution": {
     "iopub.execute_input": "2020-12-13T06:55:53.340298Z",
     "iopub.status.busy": "2020-12-13T06:55:53.339120Z",
     "iopub.status.idle": "2020-12-13T06:55:53.342612Z",
     "shell.execute_reply": "2020-12-13T06:55:53.341977Z"
    },
    "papermill": {
     "duration": 0.059954,
     "end_time": "2020-12-13T06:55:53.342762",
     "exception": false,
     "start_time": "2020-12-13T06:55:53.282808",
     "status": "completed"
    },
    "tags": []
   },
   "outputs": [],
   "source": [
    "def get_xgb_f_imp(xgb_model):\n",
    "    #Feature Importance \n",
    "    feature_names = np.array(list(xgb_model.get_score(importance_type='gain').keys()))\n",
    "    f_imp_values = np.array(list(xgb_model.get_score(importance_type='gain').values()))\n",
    "    sorted_index = f_imp_values.argsort()\n",
    "    plt.barh(feature_names[sorted_index],f_imp_values[sorted_index])\n",
    "    plt.title(\"Feature Importance\")"
   ]
  },
  {
   "cell_type": "code",
   "execution_count": 14,
   "metadata": {
    "execution": {
     "iopub.execute_input": "2020-12-13T06:55:53.439517Z",
     "iopub.status.busy": "2020-12-13T06:55:53.436535Z",
     "iopub.status.idle": "2020-12-13T06:55:53.441760Z",
     "shell.execute_reply": "2020-12-13T06:55:53.441084Z"
    },
    "papermill": {
     "duration": 0.057833,
     "end_time": "2020-12-13T06:55:53.441900",
     "exception": false,
     "start_time": "2020-12-13T06:55:53.384067",
     "status": "completed"
    },
    "tags": []
   },
   "outputs": [],
   "source": [
    "def get_shap_values(model,X_valid):\n",
    "    explainer = shap.TreeExplainer(model)\n",
    "    shap_values = explainer.shap_values(X_valid)\n",
    "    shap.summary_plot(shap_values, X_valid, plot_type=\"bar\")\n",
    "    shap.summary_plot(shap_values, X_valid)"
   ]
  },
  {
   "cell_type": "code",
   "execution_count": 15,
   "metadata": {
    "execution": {
     "iopub.execute_input": "2020-12-13T06:55:53.537085Z",
     "iopub.status.busy": "2020-12-13T06:55:53.535674Z",
     "iopub.status.idle": "2020-12-13T06:55:53.539919Z",
     "shell.execute_reply": "2020-12-13T06:55:53.539105Z"
    },
    "papermill": {
     "duration": 0.056932,
     "end_time": "2020-12-13T06:55:53.540050",
     "exception": false,
     "start_time": "2020-12-13T06:55:53.483118",
     "status": "completed"
    },
    "tags": []
   },
   "outputs": [],
   "source": [
    "#Creates random forest and evaluates AUC\n",
    "def get_random_forest(X_train, X_valid, y_train, y_valid):\n",
    "    model = RandomForestClassifier(n_estimators  = 100, random_state = random_seed, criterion = rand_forest_crit) \n",
    "    #original n_rstimator = 200, max_depth = 7\n",
    "    model.fit(X_train, y_train)\n",
    "    pred = model.predict(X_valid)\n",
    "    roc_auc = get_roc_data(y_valid,pred)\n",
    "    return(model, roc_auc)"
   ]
  },
  {
   "cell_type": "code",
   "execution_count": 16,
   "metadata": {
    "execution": {
     "iopub.execute_input": "2020-12-13T06:55:53.630157Z",
     "iopub.status.busy": "2020-12-13T06:55:53.629035Z",
     "iopub.status.idle": "2020-12-13T06:55:53.632376Z",
     "shell.execute_reply": "2020-12-13T06:55:53.631575Z"
    },
    "papermill": {
     "duration": 0.053426,
     "end_time": "2020-12-13T06:55:53.632554",
     "exception": false,
     "start_time": "2020-12-13T06:55:53.579128",
     "status": "completed"
    },
    "tags": []
   },
   "outputs": [],
   "source": [
    "def get_xgb_overfit_check(X_train, X_valid, y_train, y_valid):\n",
    "    D_train = xgb.DMatrix(X_train, label=y_train)\n",
    "    D_valid = xgb.DMatrix(X_valid, label=y_valid)\n",
    "    model = xgb.train(xgb_param,D_train)\n",
    "    pred_valid = model.predict(D_valid)\n",
    "    pred_valid = (pred_valid >= xgb_threshold )*1\n",
    "    roc_auc_valid = get_roc_data(y_valid,pred_valid)\n",
    "    print('AUC for test data is : '+ str(roc_auc_valid))\n",
    "    \n",
    "    pred_train = model.predict(D_train)\n",
    "    pred_train = (pred_train >= xgb_threshold )*1\n",
    "    roc_auc_train = get_roc_data(y_train,pred_train)\n",
    "    print('AUC for train data is : '+ str(roc_auc_train))\n",
    "    return(model)"
   ]
  },
  {
   "cell_type": "code",
   "execution_count": 17,
   "metadata": {
    "execution": {
     "iopub.execute_input": "2020-12-13T06:55:53.724209Z",
     "iopub.status.busy": "2020-12-13T06:55:53.723247Z",
     "iopub.status.idle": "2020-12-13T06:55:53.727695Z",
     "shell.execute_reply": "2020-12-13T06:55:53.726936Z"
    },
    "papermill": {
     "duration": 0.053955,
     "end_time": "2020-12-13T06:55:53.727830",
     "exception": false,
     "start_time": "2020-12-13T06:55:53.673875",
     "status": "completed"
    },
    "tags": []
   },
   "outputs": [],
   "source": [
    "def get_xgb(X_train, X_valid, y_train, y_valid):\n",
    "    D_train = xgb.DMatrix(X_train, label=y_train)\n",
    "    D_valid = xgb.DMatrix(X_valid)\n",
    "    model = xgb.train(xgb_param,D_train)\n",
    "    pred = model.predict(D_valid)\n",
    "    pred = (pred >= xgb_threshold )*1\n",
    "    roc_auc = get_roc_data(y_valid,pred)\n",
    "    return(model,roc_auc)"
   ]
  },
  {
   "cell_type": "code",
   "execution_count": 18,
   "metadata": {
    "execution": {
     "iopub.execute_input": "2020-12-13T06:55:53.820334Z",
     "iopub.status.busy": "2020-12-13T06:55:53.818751Z",
     "iopub.status.idle": "2020-12-13T06:55:53.821932Z",
     "shell.execute_reply": "2020-12-13T06:55:53.822856Z"
    },
    "papermill": {
     "duration": 0.055434,
     "end_time": "2020-12-13T06:55:53.823076",
     "exception": false,
     "start_time": "2020-12-13T06:55:53.767642",
     "status": "completed"
    },
    "tags": []
   },
   "outputs": [],
   "source": [
    "def impute_num(data ,impute_strategy):\n",
    "    num_imputer = SimpleImputer(strategy=impute_strategy)\n",
    "    data_imputed = pd.DataFrame(num_imputer.fit_transform(data))\n",
    "    data_imputed.columns = data.columns\n",
    "    data_imputed.index = data.index\n",
    "    \n",
    "    return(data_imputed)"
   ]
  },
  {
   "cell_type": "code",
   "execution_count": 19,
   "metadata": {
    "execution": {
     "iopub.execute_input": "2020-12-13T06:55:53.928174Z",
     "iopub.status.busy": "2020-12-13T06:55:53.927128Z",
     "iopub.status.idle": "2020-12-13T06:55:53.931560Z",
     "shell.execute_reply": "2020-12-13T06:55:53.930718Z"
    },
    "papermill": {
     "duration": 0.059536,
     "end_time": "2020-12-13T06:55:53.931719",
     "exception": false,
     "start_time": "2020-12-13T06:55:53.872183",
     "status": "completed"
    },
    "tags": []
   },
   "outputs": [],
   "source": [
    "def impute_cat(train, test , impute_strategy):\n",
    "    cat_imputer = SimpleImputer(strategy = impute_strategy) \n",
    "    train_imputed = pd.DataFrame(cat_imputer.fit_transform(train))\n",
    "    train_imputed.columns = train.columns\n",
    "    train_imputed.index = train.index\n",
    "     \n",
    "    test_imputed = pd.DataFrame(cat_imputer.transform(test))\n",
    "    test_imputed.columns = test.columns\n",
    "    test_imputed.index = test.index\n",
    "    \n",
    "    return(train_imputed, test_imputed)"
   ]
  },
  {
   "cell_type": "code",
   "execution_count": 20,
   "metadata": {
    "execution": {
     "iopub.execute_input": "2020-12-13T06:55:54.033712Z",
     "iopub.status.busy": "2020-12-13T06:55:54.032658Z",
     "iopub.status.idle": "2020-12-13T06:55:54.036970Z",
     "shell.execute_reply": "2020-12-13T06:55:54.036148Z"
    },
    "papermill": {
     "duration": 0.06158,
     "end_time": "2020-12-13T06:55:54.037114",
     "exception": false,
     "start_time": "2020-12-13T06:55:53.975534",
     "status": "completed"
    },
    "tags": []
   },
   "outputs": [],
   "source": [
    "#OneHotEncoding for both train and test data together \n",
    "def combine_one_hot(train, test):\n",
    "    train['train'] = 1\n",
    "    test['train'] = 0\n",
    "\n",
    "    combined = pd.concat([housing_test_val,housing_train_val])\n",
    "    combined_oh = pd.get_dummies(combined, dummy_na = oh_cosider_na)\n",
    "    \n",
    "    train_oh = combined_oh.loc[combined_oh.train == 1].drop(columns = 'train', axis = 1)\n",
    "    test_oh = combined_oh.loc[combined_oh.train == 0].drop(columns = 'train', axis = 1)\n",
    "    \n",
    "    return train_oh,test_oh"
   ]
  },
  {
   "cell_type": "code",
   "execution_count": 21,
   "metadata": {
    "execution": {
     "iopub.execute_input": "2020-12-13T06:55:54.135595Z",
     "iopub.status.busy": "2020-12-13T06:55:54.131718Z",
     "iopub.status.idle": "2020-12-13T06:55:54.138846Z",
     "shell.execute_reply": "2020-12-13T06:55:54.139440Z"
    },
    "papermill": {
     "duration": 0.057646,
     "end_time": "2020-12-13T06:55:54.139666",
     "exception": false,
     "start_time": "2020-12-13T06:55:54.082020",
     "status": "completed"
    },
    "tags": []
   },
   "outputs": [],
   "source": [
    "#Process Tags\n",
    "#Preprocessing questions\n",
    "#Getting the tags out from the column\n",
    "\n",
    "def process_tags(questions):\n",
    "    \n",
    "    tag = questions[\"tags\"].str.split(\" \", n = 6, expand = True) \n",
    "    tag.columns = ['tags1','tags2','tags3','tags4','tags5','tags6']\n",
    "    \n",
    "    #Conveting from string to numeric\n",
    "    tag['tags1'] = pd.to_numeric(tag['tags1'], errors='coerce')\n",
    "    tag['tags2'] = pd.to_numeric(tag['tags2'], errors='coerce')\n",
    "    tag['tags3'] = pd.to_numeric(tag['tags3'], errors='coerce')\n",
    "    tag['tags4'] = pd.to_numeric(tag['tags4'], errors='coerce')\n",
    "    tag['tags5'] = pd.to_numeric(tag['tags5'], errors='coerce')\n",
    "    tag['tags6'] = pd.to_numeric(tag['tags6'], errors='coerce')\n",
    "    \n",
    "    #Onehot encode tags\n",
    "    #tag = tag.stack()\n",
    "    #tag = pd.get_dummies(tag).groupby(level=0).sum()\n",
    "    \n",
    "    #imputing missing question tag values \n",
    "    tag = tag.fillna(99999)\n",
    "\n",
    "    #Merging tags back to questions \n",
    "    questions = questions.drop(columns = 'tags', axis = 1).join(tag)\n",
    "    \n",
    "    return questions"
   ]
  },
  {
   "cell_type": "code",
   "execution_count": 22,
   "metadata": {
    "execution": {
     "iopub.execute_input": "2020-12-13T06:55:54.231059Z",
     "iopub.status.busy": "2020-12-13T06:55:54.230023Z",
     "iopub.status.idle": "2020-12-13T06:55:54.233512Z",
     "shell.execute_reply": "2020-12-13T06:55:54.232761Z"
    },
    "papermill": {
     "duration": 0.050753,
     "end_time": "2020-12-13T06:55:54.233643",
     "exception": false,
     "start_time": "2020-12-13T06:55:54.182890",
     "status": "completed"
    },
    "tags": []
   },
   "outputs": [],
   "source": [
    "##get_null_columns(train_X, missing_column_limit)"
   ]
  },
  {
   "cell_type": "code",
   "execution_count": 23,
   "metadata": {
    "execution": {
     "iopub.execute_input": "2020-12-13T06:55:54.321104Z",
     "iopub.status.busy": "2020-12-13T06:55:54.320236Z",
     "iopub.status.idle": "2020-12-13T06:55:54.323865Z",
     "shell.execute_reply": "2020-12-13T06:55:54.323049Z"
    },
    "papermill": {
     "duration": 0.049673,
     "end_time": "2020-12-13T06:55:54.324009",
     "exception": false,
     "start_time": "2020-12-13T06:55:54.274336",
     "status": "completed"
    },
    "tags": []
   },
   "outputs": [],
   "source": [
    "#Preprocessing\n",
    "#Calculating high dimentional and low dimentional columns \n",
    "##low_dim_cat_col, high_dim_cat_col = get_cat_cols(train_X)\n",
    "##cat_cols = (low_dim_cat_col + high_dim_cat_col)"
   ]
  },
  {
   "cell_type": "code",
   "execution_count": 24,
   "metadata": {
    "execution": {
     "iopub.execute_input": "2020-12-13T06:55:54.418903Z",
     "iopub.status.busy": "2020-12-13T06:55:54.417594Z",
     "iopub.status.idle": "2020-12-13T06:56:00.576412Z",
     "shell.execute_reply": "2020-12-13T06:56:00.575581Z"
    },
    "papermill": {
     "duration": 6.209634,
     "end_time": "2020-12-13T06:56:00.576633",
     "exception": false,
     "start_time": "2020-12-13T06:55:54.366999",
     "status": "completed"
    },
    "tags": []
   },
   "outputs": [
    {
     "name": "stdout",
     "output_type": "stream",
     "text": [
      "<class 'pandas.core.frame.DataFrame'>\n",
      "Int64Index: 1961082 entries, 76783108 to 1725852\n",
      "Data columns (total 7 columns):\n",
      " #   Column                          Dtype  \n",
      "---  ------                          -----  \n",
      " 0   timestamp                       int64  \n",
      " 1   user_id                         int32  \n",
      " 2   content_id                      int16  \n",
      " 3   task_container_id               int16  \n",
      " 4   answered_correctly              int8   \n",
      " 5   prior_question_elapsed_time     float32\n",
      " 6   prior_question_had_explanation  Int64  \n",
      "dtypes: Int64(1), float32(1), int16(2), int32(1), int64(1), int8(1)\n",
      "memory usage: 71.1 MB\n"
     ]
    }
   ],
   "source": [
    "#Sampling from train data\n",
    "#Preprocessing\n",
    "train_sample = train.sample(n = train_sample, random_state = random_seed).copy()\n",
    "train_sample.prior_question_had_explanation = train_sample.prior_question_had_explanation*1 #converting boolian to number\n",
    "train_sample = train_sample.drop(train_sample[train_sample.answered_correctly == -1].index,axis = 0)  #are lecturers \n",
    "drop_cols = ['user_answer','content_type_id']\n",
    "train_X = train_sample.drop(drop_cols, axis = 1)\n",
    "train_X.info()\n"
   ]
  },
  {
   "cell_type": "code",
   "execution_count": 25,
   "metadata": {
    "execution": {
     "iopub.execute_input": "2020-12-13T06:56:00.670729Z",
     "iopub.status.busy": "2020-12-13T06:56:00.669741Z",
     "iopub.status.idle": "2020-12-13T06:56:00.795219Z",
     "shell.execute_reply": "2020-12-13T06:56:00.795808Z"
    },
    "papermill": {
     "duration": 0.17568,
     "end_time": "2020-12-13T06:56:00.795986",
     "exception": false,
     "start_time": "2020-12-13T06:56:00.620306",
     "status": "completed"
    },
    "tags": []
   },
   "outputs": [
    {
     "data": {
      "text/html": [
       "<div>\n",
       "<style scoped>\n",
       "    .dataframe tbody tr th:only-of-type {\n",
       "        vertical-align: middle;\n",
       "    }\n",
       "\n",
       "    .dataframe tbody tr th {\n",
       "        vertical-align: top;\n",
       "    }\n",
       "\n",
       "    .dataframe thead th {\n",
       "        text-align: right;\n",
       "    }\n",
       "</style>\n",
       "<table border=\"1\" class=\"dataframe\">\n",
       "  <thead>\n",
       "    <tr style=\"text-align: right;\">\n",
       "      <th></th>\n",
       "      <th>content_id</th>\n",
       "      <th>bundle_id</th>\n",
       "      <th>correct_answer</th>\n",
       "      <th>part</th>\n",
       "      <th>tags1</th>\n",
       "      <th>tags2</th>\n",
       "      <th>tags3</th>\n",
       "      <th>tags4</th>\n",
       "      <th>tags5</th>\n",
       "      <th>tags6</th>\n",
       "    </tr>\n",
       "  </thead>\n",
       "  <tbody>\n",
       "    <tr>\n",
       "      <th>0</th>\n",
       "      <td>0</td>\n",
       "      <td>0</td>\n",
       "      <td>0</td>\n",
       "      <td>1</td>\n",
       "      <td>51.0</td>\n",
       "      <td>131.0</td>\n",
       "      <td>162.0</td>\n",
       "      <td>38.0</td>\n",
       "      <td>99999.0</td>\n",
       "      <td>99999.0</td>\n",
       "    </tr>\n",
       "    <tr>\n",
       "      <th>1</th>\n",
       "      <td>1</td>\n",
       "      <td>1</td>\n",
       "      <td>1</td>\n",
       "      <td>1</td>\n",
       "      <td>131.0</td>\n",
       "      <td>36.0</td>\n",
       "      <td>81.0</td>\n",
       "      <td>99999.0</td>\n",
       "      <td>99999.0</td>\n",
       "      <td>99999.0</td>\n",
       "    </tr>\n",
       "    <tr>\n",
       "      <th>2</th>\n",
       "      <td>2</td>\n",
       "      <td>2</td>\n",
       "      <td>0</td>\n",
       "      <td>1</td>\n",
       "      <td>131.0</td>\n",
       "      <td>101.0</td>\n",
       "      <td>162.0</td>\n",
       "      <td>92.0</td>\n",
       "      <td>99999.0</td>\n",
       "      <td>99999.0</td>\n",
       "    </tr>\n",
       "    <tr>\n",
       "      <th>3</th>\n",
       "      <td>3</td>\n",
       "      <td>3</td>\n",
       "      <td>0</td>\n",
       "      <td>1</td>\n",
       "      <td>131.0</td>\n",
       "      <td>149.0</td>\n",
       "      <td>162.0</td>\n",
       "      <td>29.0</td>\n",
       "      <td>99999.0</td>\n",
       "      <td>99999.0</td>\n",
       "    </tr>\n",
       "    <tr>\n",
       "      <th>4</th>\n",
       "      <td>4</td>\n",
       "      <td>4</td>\n",
       "      <td>3</td>\n",
       "      <td>1</td>\n",
       "      <td>131.0</td>\n",
       "      <td>5.0</td>\n",
       "      <td>162.0</td>\n",
       "      <td>38.0</td>\n",
       "      <td>99999.0</td>\n",
       "      <td>99999.0</td>\n",
       "    </tr>\n",
       "    <tr>\n",
       "      <th>...</th>\n",
       "      <td>...</td>\n",
       "      <td>...</td>\n",
       "      <td>...</td>\n",
       "      <td>...</td>\n",
       "      <td>...</td>\n",
       "      <td>...</td>\n",
       "      <td>...</td>\n",
       "      <td>...</td>\n",
       "      <td>...</td>\n",
       "      <td>...</td>\n",
       "    </tr>\n",
       "    <tr>\n",
       "      <th>13518</th>\n",
       "      <td>13518</td>\n",
       "      <td>13518</td>\n",
       "      <td>3</td>\n",
       "      <td>5</td>\n",
       "      <td>14.0</td>\n",
       "      <td>99999.0</td>\n",
       "      <td>99999.0</td>\n",
       "      <td>99999.0</td>\n",
       "      <td>99999.0</td>\n",
       "      <td>99999.0</td>\n",
       "    </tr>\n",
       "    <tr>\n",
       "      <th>13519</th>\n",
       "      <td>13519</td>\n",
       "      <td>13519</td>\n",
       "      <td>3</td>\n",
       "      <td>5</td>\n",
       "      <td>8.0</td>\n",
       "      <td>99999.0</td>\n",
       "      <td>99999.0</td>\n",
       "      <td>99999.0</td>\n",
       "      <td>99999.0</td>\n",
       "      <td>99999.0</td>\n",
       "    </tr>\n",
       "    <tr>\n",
       "      <th>13520</th>\n",
       "      <td>13520</td>\n",
       "      <td>13520</td>\n",
       "      <td>2</td>\n",
       "      <td>5</td>\n",
       "      <td>73.0</td>\n",
       "      <td>99999.0</td>\n",
       "      <td>99999.0</td>\n",
       "      <td>99999.0</td>\n",
       "      <td>99999.0</td>\n",
       "      <td>99999.0</td>\n",
       "    </tr>\n",
       "    <tr>\n",
       "      <th>13521</th>\n",
       "      <td>13521</td>\n",
       "      <td>13521</td>\n",
       "      <td>0</td>\n",
       "      <td>5</td>\n",
       "      <td>125.0</td>\n",
       "      <td>99999.0</td>\n",
       "      <td>99999.0</td>\n",
       "      <td>99999.0</td>\n",
       "      <td>99999.0</td>\n",
       "      <td>99999.0</td>\n",
       "    </tr>\n",
       "    <tr>\n",
       "      <th>13522</th>\n",
       "      <td>13522</td>\n",
       "      <td>13522</td>\n",
       "      <td>3</td>\n",
       "      <td>5</td>\n",
       "      <td>55.0</td>\n",
       "      <td>99999.0</td>\n",
       "      <td>99999.0</td>\n",
       "      <td>99999.0</td>\n",
       "      <td>99999.0</td>\n",
       "      <td>99999.0</td>\n",
       "    </tr>\n",
       "  </tbody>\n",
       "</table>\n",
       "<p>13523 rows × 10 columns</p>\n",
       "</div>"
      ],
      "text/plain": [
       "       content_id  bundle_id  correct_answer  part  tags1    tags2    tags3  \\\n",
       "0               0          0               0     1   51.0    131.0    162.0   \n",
       "1               1          1               1     1  131.0     36.0     81.0   \n",
       "2               2          2               0     1  131.0    101.0    162.0   \n",
       "3               3          3               0     1  131.0    149.0    162.0   \n",
       "4               4          4               3     1  131.0      5.0    162.0   \n",
       "...           ...        ...             ...   ...    ...      ...      ...   \n",
       "13518       13518      13518               3     5   14.0  99999.0  99999.0   \n",
       "13519       13519      13519               3     5    8.0  99999.0  99999.0   \n",
       "13520       13520      13520               2     5   73.0  99999.0  99999.0   \n",
       "13521       13521      13521               0     5  125.0  99999.0  99999.0   \n",
       "13522       13522      13522               3     5   55.0  99999.0  99999.0   \n",
       "\n",
       "         tags4    tags5    tags6  \n",
       "0         38.0  99999.0  99999.0  \n",
       "1      99999.0  99999.0  99999.0  \n",
       "2         92.0  99999.0  99999.0  \n",
       "3         29.0  99999.0  99999.0  \n",
       "4         38.0  99999.0  99999.0  \n",
       "...        ...      ...      ...  \n",
       "13518  99999.0  99999.0  99999.0  \n",
       "13519  99999.0  99999.0  99999.0  \n",
       "13520  99999.0  99999.0  99999.0  \n",
       "13521  99999.0  99999.0  99999.0  \n",
       "13522  99999.0  99999.0  99999.0  \n",
       "\n",
       "[13523 rows x 10 columns]"
      ]
     },
     "execution_count": 25,
     "metadata": {},
     "output_type": "execute_result"
    }
   ],
   "source": [
    "questions_tag_pr = process_tags(questions)\n",
    "questions_tag_pr"
   ]
  },
  {
   "cell_type": "code",
   "execution_count": 26,
   "metadata": {
    "execution": {
     "iopub.execute_input": "2020-12-13T06:56:00.888434Z",
     "iopub.status.busy": "2020-12-13T06:56:00.887636Z",
     "iopub.status.idle": "2020-12-13T06:56:01.226348Z",
     "shell.execute_reply": "2020-12-13T06:56:01.225735Z"
    },
    "papermill": {
     "duration": 0.388181,
     "end_time": "2020-12-13T06:56:01.226515",
     "exception": false,
     "start_time": "2020-12-13T06:56:00.838334",
     "status": "completed"
    },
    "tags": []
   },
   "outputs": [
    {
     "name": "stdout",
     "output_type": "stream",
     "text": [
      "<class 'pandas.core.frame.DataFrame'>\n",
      "Int64Index: 1961082 entries, 0 to 1961081\n",
      "Data columns (total 16 columns):\n",
      " #   Column                          Dtype  \n",
      "---  ------                          -----  \n",
      " 0   timestamp                       int64  \n",
      " 1   user_id                         int32  \n",
      " 2   content_id                      int16  \n",
      " 3   task_container_id               int16  \n",
      " 4   answered_correctly              int8   \n",
      " 5   prior_question_elapsed_time     float32\n",
      " 6   prior_question_had_explanation  Int64  \n",
      " 7   bundle_id                       int64  \n",
      " 8   correct_answer                  int64  \n",
      " 9   part                            int64  \n",
      " 10  tags1                           float64\n",
      " 11  tags2                           float64\n",
      " 12  tags3                           float64\n",
      " 13  tags4                           float64\n",
      " 14  tags5                           float64\n",
      " 15  tags6                           float64\n",
      "dtypes: Int64(1), float32(1), float64(6), int16(2), int32(1), int64(4), int8(1)\n",
      "memory usage: 205.7 MB\n"
     ]
    }
   ],
   "source": [
    "#Merging train data and questions \n",
    "train_questions_X = train_X.merge(questions_tag_pr,on = 'content_id', how = 'left', suffixes = ('_left', '_right'))\n",
    "\n",
    "train_questions_X.info()"
   ]
  },
  {
   "cell_type": "code",
   "execution_count": 27,
   "metadata": {
    "execution": {
     "iopub.execute_input": "2020-12-13T06:56:01.321669Z",
     "iopub.status.busy": "2020-12-13T06:56:01.320831Z",
     "iopub.status.idle": "2020-12-13T06:56:11.384029Z",
     "shell.execute_reply": "2020-12-13T06:56:11.383345Z"
    },
    "papermill": {
     "duration": 10.115293,
     "end_time": "2020-12-13T06:56:11.384154",
     "exception": false,
     "start_time": "2020-12-13T06:56:01.268861",
     "status": "completed"
    },
    "tags": []
   },
   "outputs": [],
   "source": [
    "#Imputing , Creating train, valid set \n",
    "y = train_questions_X.answered_correctly\n",
    "drop_cols = ['answered_correctly']\n",
    "train_questions_X = train_questions_X.drop(drop_cols, axis = 1)\n",
    "train_imp = train_questions_X.copy()\n",
    "#train_imp = train_imp.fillna(0)\n",
    "train_imp.prior_question_elapsed_time = train_imp.prior_question_elapsed_time.fillna(0)\n",
    "train_imp.prior_question_had_explanation = train_imp.prior_question_had_explanation.fillna(1)\n",
    "train_imp = impute_num(train_imp ,num_imp_str)#why do I have to do this?\n",
    "\n",
    "X_train, X_valid, y_train, y_valid = get_train_split(train_imp, y)"
   ]
  },
  {
   "cell_type": "code",
   "execution_count": 28,
   "metadata": {
    "execution": {
     "iopub.execute_input": "2020-12-13T06:56:11.475812Z",
     "iopub.status.busy": "2020-12-13T06:56:11.475015Z",
     "iopub.status.idle": "2020-12-13T06:56:11.965658Z",
     "shell.execute_reply": "2020-12-13T06:56:11.965020Z"
    },
    "papermill": {
     "duration": 0.539228,
     "end_time": "2020-12-13T06:56:11.965780",
     "exception": false,
     "start_time": "2020-12-13T06:56:11.426552",
     "status": "completed"
    },
    "tags": []
   },
   "outputs": [
    {
     "data": {
      "text/html": [
       "<div>\n",
       "<style scoped>\n",
       "    .dataframe tbody tr th:only-of-type {\n",
       "        vertical-align: middle;\n",
       "    }\n",
       "\n",
       "    .dataframe tbody tr th {\n",
       "        vertical-align: top;\n",
       "    }\n",
       "\n",
       "    .dataframe thead th {\n",
       "        text-align: right;\n",
       "    }\n",
       "</style>\n",
       "<table border=\"1\" class=\"dataframe\">\n",
       "  <thead>\n",
       "    <tr style=\"text-align: right;\">\n",
       "      <th></th>\n",
       "      <th>timestamp</th>\n",
       "      <th>user_id</th>\n",
       "      <th>content_id</th>\n",
       "      <th>task_container_id</th>\n",
       "      <th>prior_question_elapsed_time</th>\n",
       "      <th>prior_question_had_explanation</th>\n",
       "      <th>bundle_id</th>\n",
       "      <th>correct_answer</th>\n",
       "      <th>part</th>\n",
       "      <th>tags1</th>\n",
       "      <th>tags2</th>\n",
       "      <th>tags3</th>\n",
       "      <th>tags4</th>\n",
       "      <th>tags5</th>\n",
       "      <th>tags6</th>\n",
       "      <th>answered_correctly</th>\n",
       "    </tr>\n",
       "  </thead>\n",
       "  <tbody>\n",
       "    <tr>\n",
       "      <th>429242</th>\n",
       "      <td>2.961597e+10</td>\n",
       "      <td>1.930218e+09</td>\n",
       "      <td>5281.0</td>\n",
       "      <td>1110.0</td>\n",
       "      <td>17000.0</td>\n",
       "      <td>1.0</td>\n",
       "      <td>5281.0</td>\n",
       "      <td>3.0</td>\n",
       "      <td>5.0</td>\n",
       "      <td>181.0</td>\n",
       "      <td>99999.0</td>\n",
       "      <td>99999.0</td>\n",
       "      <td>99999.0</td>\n",
       "      <td>99999.0</td>\n",
       "      <td>99999.0</td>\n",
       "      <td>1</td>\n",
       "    </tr>\n",
       "    <tr>\n",
       "      <th>1691068</th>\n",
       "      <td>2.039788e+09</td>\n",
       "      <td>8.262440e+08</td>\n",
       "      <td>9930.0</td>\n",
       "      <td>313.0</td>\n",
       "      <td>28000.0</td>\n",
       "      <td>1.0</td>\n",
       "      <td>9930.0</td>\n",
       "      <td>3.0</td>\n",
       "      <td>5.0</td>\n",
       "      <td>1.0</td>\n",
       "      <td>99999.0</td>\n",
       "      <td>99999.0</td>\n",
       "      <td>99999.0</td>\n",
       "      <td>99999.0</td>\n",
       "      <td>99999.0</td>\n",
       "      <td>1</td>\n",
       "    </tr>\n",
       "    <tr>\n",
       "      <th>522937</th>\n",
       "      <td>8.607704e+09</td>\n",
       "      <td>1.495276e+09</td>\n",
       "      <td>4748.0</td>\n",
       "      <td>1424.0</td>\n",
       "      <td>52000.0</td>\n",
       "      <td>1.0</td>\n",
       "      <td>4748.0</td>\n",
       "      <td>0.0</td>\n",
       "      <td>5.0</td>\n",
       "      <td>14.0</td>\n",
       "      <td>99999.0</td>\n",
       "      <td>99999.0</td>\n",
       "      <td>99999.0</td>\n",
       "      <td>99999.0</td>\n",
       "      <td>99999.0</td>\n",
       "      <td>0</td>\n",
       "    </tr>\n",
       "    <tr>\n",
       "      <th>173550</th>\n",
       "      <td>2.738554e+10</td>\n",
       "      <td>1.005974e+09</td>\n",
       "      <td>8022.0</td>\n",
       "      <td>2476.0</td>\n",
       "      <td>1000.0</td>\n",
       "      <td>1.0</td>\n",
       "      <td>8019.0</td>\n",
       "      <td>2.0</td>\n",
       "      <td>7.0</td>\n",
       "      <td>84.0</td>\n",
       "      <td>18.0</td>\n",
       "      <td>184.0</td>\n",
       "      <td>135.0</td>\n",
       "      <td>99999.0</td>\n",
       "      <td>99999.0</td>\n",
       "      <td>0</td>\n",
       "    </tr>\n",
       "    <tr>\n",
       "      <th>693062</th>\n",
       "      <td>4.554560e+09</td>\n",
       "      <td>5.195180e+08</td>\n",
       "      <td>2275.0</td>\n",
       "      <td>68.0</td>\n",
       "      <td>27666.0</td>\n",
       "      <td>1.0</td>\n",
       "      <td>2275.0</td>\n",
       "      <td>3.0</td>\n",
       "      <td>3.0</td>\n",
       "      <td>74.0</td>\n",
       "      <td>92.0</td>\n",
       "      <td>29.0</td>\n",
       "      <td>99999.0</td>\n",
       "      <td>99999.0</td>\n",
       "      <td>99999.0</td>\n",
       "      <td>1</td>\n",
       "    </tr>\n",
       "    <tr>\n",
       "      <th>...</th>\n",
       "      <td>...</td>\n",
       "      <td>...</td>\n",
       "      <td>...</td>\n",
       "      <td>...</td>\n",
       "      <td>...</td>\n",
       "      <td>...</td>\n",
       "      <td>...</td>\n",
       "      <td>...</td>\n",
       "      <td>...</td>\n",
       "      <td>...</td>\n",
       "      <td>...</td>\n",
       "      <td>...</td>\n",
       "      <td>...</td>\n",
       "      <td>...</td>\n",
       "      <td>...</td>\n",
       "      <td>...</td>\n",
       "    </tr>\n",
       "    <tr>\n",
       "      <th>152315</th>\n",
       "      <td>4.118251e+10</td>\n",
       "      <td>2.147836e+07</td>\n",
       "      <td>11797.0</td>\n",
       "      <td>2646.0</td>\n",
       "      <td>31333.0</td>\n",
       "      <td>1.0</td>\n",
       "      <td>11797.0</td>\n",
       "      <td>0.0</td>\n",
       "      <td>4.0</td>\n",
       "      <td>74.0</td>\n",
       "      <td>144.0</td>\n",
       "      <td>92.0</td>\n",
       "      <td>99999.0</td>\n",
       "      <td>99999.0</td>\n",
       "      <td>99999.0</td>\n",
       "      <td>0</td>\n",
       "    </tr>\n",
       "    <tr>\n",
       "      <th>963395</th>\n",
       "      <td>3.433543e+09</td>\n",
       "      <td>4.060943e+08</td>\n",
       "      <td>510.0</td>\n",
       "      <td>1375.0</td>\n",
       "      <td>24000.0</td>\n",
       "      <td>1.0</td>\n",
       "      <td>510.0</td>\n",
       "      <td>1.0</td>\n",
       "      <td>2.0</td>\n",
       "      <td>148.0</td>\n",
       "      <td>32.0</td>\n",
       "      <td>38.0</td>\n",
       "      <td>29.0</td>\n",
       "      <td>99999.0</td>\n",
       "      <td>99999.0</td>\n",
       "      <td>1</td>\n",
       "    </tr>\n",
       "    <tr>\n",
       "      <th>117952</th>\n",
       "      <td>1.164733e+10</td>\n",
       "      <td>1.273477e+09</td>\n",
       "      <td>1102.0</td>\n",
       "      <td>2439.0</td>\n",
       "      <td>18000.0</td>\n",
       "      <td>1.0</td>\n",
       "      <td>1102.0</td>\n",
       "      <td>1.0</td>\n",
       "      <td>2.0</td>\n",
       "      <td>143.0</td>\n",
       "      <td>140.0</td>\n",
       "      <td>38.0</td>\n",
       "      <td>102.0</td>\n",
       "      <td>99999.0</td>\n",
       "      <td>99999.0</td>\n",
       "      <td>1</td>\n",
       "    </tr>\n",
       "    <tr>\n",
       "      <th>1484405</th>\n",
       "      <td>3.560091e+09</td>\n",
       "      <td>9.120420e+08</td>\n",
       "      <td>8509.0</td>\n",
       "      <td>2595.0</td>\n",
       "      <td>127000.0</td>\n",
       "      <td>1.0</td>\n",
       "      <td>8509.0</td>\n",
       "      <td>1.0</td>\n",
       "      <td>5.0</td>\n",
       "      <td>116.0</td>\n",
       "      <td>99999.0</td>\n",
       "      <td>99999.0</td>\n",
       "      <td>99999.0</td>\n",
       "      <td>99999.0</td>\n",
       "      <td>99999.0</td>\n",
       "      <td>1</td>\n",
       "    </tr>\n",
       "    <tr>\n",
       "      <th>305711</th>\n",
       "      <td>6.722407e+08</td>\n",
       "      <td>1.080904e+09</td>\n",
       "      <td>6572.0</td>\n",
       "      <td>134.0</td>\n",
       "      <td>22500.0</td>\n",
       "      <td>1.0</td>\n",
       "      <td>6569.0</td>\n",
       "      <td>0.0</td>\n",
       "      <td>6.0</td>\n",
       "      <td>27.0</td>\n",
       "      <td>99999.0</td>\n",
       "      <td>99999.0</td>\n",
       "      <td>99999.0</td>\n",
       "      <td>99999.0</td>\n",
       "      <td>99999.0</td>\n",
       "      <td>1</td>\n",
       "    </tr>\n",
       "  </tbody>\n",
       "</table>\n",
       "<p>1568865 rows × 16 columns</p>\n",
       "</div>"
      ],
      "text/plain": [
       "            timestamp       user_id  content_id  task_container_id  \\\n",
       "429242   2.961597e+10  1.930218e+09      5281.0             1110.0   \n",
       "1691068  2.039788e+09  8.262440e+08      9930.0              313.0   \n",
       "522937   8.607704e+09  1.495276e+09      4748.0             1424.0   \n",
       "173550   2.738554e+10  1.005974e+09      8022.0             2476.0   \n",
       "693062   4.554560e+09  5.195180e+08      2275.0               68.0   \n",
       "...               ...           ...         ...                ...   \n",
       "152315   4.118251e+10  2.147836e+07     11797.0             2646.0   \n",
       "963395   3.433543e+09  4.060943e+08       510.0             1375.0   \n",
       "117952   1.164733e+10  1.273477e+09      1102.0             2439.0   \n",
       "1484405  3.560091e+09  9.120420e+08      8509.0             2595.0   \n",
       "305711   6.722407e+08  1.080904e+09      6572.0              134.0   \n",
       "\n",
       "         prior_question_elapsed_time  prior_question_had_explanation  \\\n",
       "429242                       17000.0                             1.0   \n",
       "1691068                      28000.0                             1.0   \n",
       "522937                       52000.0                             1.0   \n",
       "173550                        1000.0                             1.0   \n",
       "693062                       27666.0                             1.0   \n",
       "...                              ...                             ...   \n",
       "152315                       31333.0                             1.0   \n",
       "963395                       24000.0                             1.0   \n",
       "117952                       18000.0                             1.0   \n",
       "1484405                     127000.0                             1.0   \n",
       "305711                       22500.0                             1.0   \n",
       "\n",
       "         bundle_id  correct_answer  part  tags1    tags2    tags3    tags4  \\\n",
       "429242      5281.0             3.0   5.0  181.0  99999.0  99999.0  99999.0   \n",
       "1691068     9930.0             3.0   5.0    1.0  99999.0  99999.0  99999.0   \n",
       "522937      4748.0             0.0   5.0   14.0  99999.0  99999.0  99999.0   \n",
       "173550      8019.0             2.0   7.0   84.0     18.0    184.0    135.0   \n",
       "693062      2275.0             3.0   3.0   74.0     92.0     29.0  99999.0   \n",
       "...            ...             ...   ...    ...      ...      ...      ...   \n",
       "152315     11797.0             0.0   4.0   74.0    144.0     92.0  99999.0   \n",
       "963395       510.0             1.0   2.0  148.0     32.0     38.0     29.0   \n",
       "117952      1102.0             1.0   2.0  143.0    140.0     38.0    102.0   \n",
       "1484405     8509.0             1.0   5.0  116.0  99999.0  99999.0  99999.0   \n",
       "305711      6569.0             0.0   6.0   27.0  99999.0  99999.0  99999.0   \n",
       "\n",
       "           tags5    tags6  answered_correctly  \n",
       "429242   99999.0  99999.0                   1  \n",
       "1691068  99999.0  99999.0                   1  \n",
       "522937   99999.0  99999.0                   0  \n",
       "173550   99999.0  99999.0                   0  \n",
       "693062   99999.0  99999.0                   1  \n",
       "...          ...      ...                 ...  \n",
       "152315   99999.0  99999.0                   0  \n",
       "963395   99999.0  99999.0                   1  \n",
       "117952   99999.0  99999.0                   1  \n",
       "1484405  99999.0  99999.0                   1  \n",
       "305711   99999.0  99999.0                   1  \n",
       "\n",
       "[1568865 rows x 16 columns]"
      ]
     },
     "execution_count": 28,
     "metadata": {},
     "output_type": "execute_result"
    }
   ],
   "source": [
    "X_train_plus_y = X_train.join(y)\n",
    "X_train_plus_y"
   ]
  },
  {
   "cell_type": "code",
   "execution_count": 29,
   "metadata": {
    "execution": {
     "iopub.execute_input": "2020-12-13T06:56:12.067589Z",
     "iopub.status.busy": "2020-12-13T06:56:12.065193Z",
     "iopub.status.idle": "2020-12-13T06:56:13.154627Z",
     "shell.execute_reply": "2020-12-13T06:56:13.153854Z"
    },
    "papermill": {
     "duration": 1.145424,
     "end_time": "2020-12-13T06:56:13.154763",
     "exception": false,
     "start_time": "2020-12-13T06:56:12.009339",
     "status": "completed"
    },
    "tags": []
   },
   "outputs": [
    {
     "name": "stdout",
     "output_type": "stream",
     "text": [
      "60\n"
     ]
    },
    {
     "data": {
      "text/html": [
       "<div>\n",
       "<style scoped>\n",
       "    .dataframe tbody tr th:only-of-type {\n",
       "        vertical-align: middle;\n",
       "    }\n",
       "\n",
       "    .dataframe tbody tr th {\n",
       "        vertical-align: top;\n",
       "    }\n",
       "\n",
       "    .dataframe thead th {\n",
       "        text-align: right;\n",
       "    }\n",
       "</style>\n",
       "<table border=\"1\" class=\"dataframe\">\n",
       "  <thead>\n",
       "    <tr style=\"text-align: right;\">\n",
       "      <th></th>\n",
       "      <th>content_id</th>\n",
       "      <th>question_hit_rate</th>\n",
       "      <th>question_shown_count</th>\n",
       "    </tr>\n",
       "  </thead>\n",
       "  <tbody>\n",
       "    <tr>\n",
       "      <th>0</th>\n",
       "      <td>0.0</td>\n",
       "      <td>0.897959</td>\n",
       "      <td>98</td>\n",
       "    </tr>\n",
       "    <tr>\n",
       "      <th>1</th>\n",
       "      <td>1.0</td>\n",
       "      <td>0.885246</td>\n",
       "      <td>122</td>\n",
       "    </tr>\n",
       "    <tr>\n",
       "      <th>2</th>\n",
       "      <td>2.0</td>\n",
       "      <td>0.555233</td>\n",
       "      <td>688</td>\n",
       "    </tr>\n",
       "    <tr>\n",
       "      <th>3</th>\n",
       "      <td>3.0</td>\n",
       "      <td>0.787958</td>\n",
       "      <td>382</td>\n",
       "    </tr>\n",
       "    <tr>\n",
       "      <th>4</th>\n",
       "      <td>4.0</td>\n",
       "      <td>0.594041</td>\n",
       "      <td>537</td>\n",
       "    </tr>\n",
       "    <tr>\n",
       "      <th>...</th>\n",
       "      <td>...</td>\n",
       "      <td>...</td>\n",
       "      <td>...</td>\n",
       "    </tr>\n",
       "    <tr>\n",
       "      <th>13322</th>\n",
       "      <td>13518.0</td>\n",
       "      <td>0.800000</td>\n",
       "      <td>10</td>\n",
       "    </tr>\n",
       "    <tr>\n",
       "      <th>13323</th>\n",
       "      <td>13519.0</td>\n",
       "      <td>0.500000</td>\n",
       "      <td>10</td>\n",
       "    </tr>\n",
       "    <tr>\n",
       "      <th>13324</th>\n",
       "      <td>13520.0</td>\n",
       "      <td>0.565217</td>\n",
       "      <td>23</td>\n",
       "    </tr>\n",
       "    <tr>\n",
       "      <th>13325</th>\n",
       "      <td>13521.0</td>\n",
       "      <td>0.642857</td>\n",
       "      <td>14</td>\n",
       "    </tr>\n",
       "    <tr>\n",
       "      <th>13326</th>\n",
       "      <td>13522.0</td>\n",
       "      <td>1.000000</td>\n",
       "      <td>16</td>\n",
       "    </tr>\n",
       "  </tbody>\n",
       "</table>\n",
       "<p>13327 rows × 3 columns</p>\n",
       "</div>"
      ],
      "text/plain": [
       "       content_id  question_hit_rate  question_shown_count\n",
       "0             0.0           0.897959                    98\n",
       "1             1.0           0.885246                   122\n",
       "2             2.0           0.555233                   688\n",
       "3             3.0           0.787958                   382\n",
       "4             4.0           0.594041                   537\n",
       "...           ...                ...                   ...\n",
       "13322     13518.0           0.800000                    10\n",
       "13323     13519.0           0.500000                    10\n",
       "13324     13520.0           0.565217                    23\n",
       "13325     13521.0           0.642857                    14\n",
       "13326     13522.0           1.000000                    16\n",
       "\n",
       "[13327 rows x 3 columns]"
      ]
     },
     "execution_count": 29,
     "metadata": {},
     "output_type": "execute_result"
    }
   ],
   "source": [
    "#Feature engineering \n",
    "#Question accuracy\n",
    "question_accuracy = pd.DataFrame(X_train_plus_y.groupby('content_id').answered_correctly.agg(['mean','count'])).reset_index()\n",
    "question_accuracy = question_accuracy.rename(columns = {'mean' : 'question_hit_rate' , 'count' : 'question_shown_count'})\n",
    "\n",
    "X_train = X_train.merge(question_accuracy,on = 'content_id',how = 'left',suffixes=('_left', '_right'))\n",
    "X_valid = X_valid.merge(question_accuracy,on = 'content_id',how = 'left',suffixes=('_left', '_right'))\n",
    "\n",
    "print(X_valid.loc[X_valid.question_shown_count.isnull()].content_id.nunique())\n",
    "question_accuracy"
   ]
  },
  {
   "cell_type": "code",
   "execution_count": 30,
   "metadata": {
    "execution": {
     "iopub.execute_input": "2020-12-13T06:56:13.251073Z",
     "iopub.status.busy": "2020-12-13T06:56:13.250325Z",
     "iopub.status.idle": "2020-12-13T06:56:13.254346Z",
     "shell.execute_reply": "2020-12-13T06:56:13.253741Z"
    },
    "papermill": {
     "duration": 0.054358,
     "end_time": "2020-12-13T06:56:13.254482",
     "exception": false,
     "start_time": "2020-12-13T06:56:13.200124",
     "status": "completed"
    },
    "tags": []
   },
   "outputs": [],
   "source": [
    "#Feature engineering \n",
    "#User accuracy\n",
    "\n",
    "#user_accuracy = X_train_plus_y.groupby('user_id').answered_correctly.count().reset_index()\n",
    "#user_accuracy = user_accuracy.rename(columns = {'answered_correctly' : 'user_questions_asked'})\n",
    "\n",
    "#user_accuracy = X_train_plus_y.groupby('user_id').answered_correctly.agg(['mean','count']).reset_index()\n",
    "#user_accuracy = user_accuracy.rename(columns = {'count' : 'user_questions_asked','mean':'user_accuracy'})\n",
    "\n",
    "#user_accuracy_50perc_data = user_accuracy.sample(frac = 0.1, random_state = random_seed).copy()\n",
    "#X_train = X_train.merge(user_accuracy_50perc_data,on = 'user_id',how = 'left',suffixes=('_left', '_right'))\n",
    "#X_valid = X_valid.merge(user_accuracy_50perc_data,on = 'user_id',how = 'left',suffixes=('_left', '_right'))\n",
    "#X_valid.info()\n",
    "#user_accuracy"
   ]
  },
  {
   "cell_type": "code",
   "execution_count": 31,
   "metadata": {
    "execution": {
     "iopub.execute_input": "2020-12-13T06:56:13.366710Z",
     "iopub.status.busy": "2020-12-13T06:56:13.365147Z",
     "iopub.status.idle": "2020-12-13T06:56:13.368225Z",
     "shell.execute_reply": "2020-12-13T06:56:13.369314Z"
    },
    "papermill": {
     "duration": 0.070628,
     "end_time": "2020-12-13T06:56:13.369672",
     "exception": false,
     "start_time": "2020-12-13T06:56:13.299044",
     "status": "completed"
    },
    "tags": []
   },
   "outputs": [],
   "source": [
    "#Feature engineering \n",
    "#tag1 accuracy \n",
    "#tags1_accuracy = pd.DataFrame(X_train_plus_y.groupby('tags1').answered_correctly.agg(['mean','count'])).reset_index()\n",
    "#tags1_accuracy = tags1_accuracy.rename(columns = {'mean' : 'tags1_hit_rate' , 'count' : 'tags1_shown_count'})\n",
    "\n",
    "#X_train = X_train.merge(tags1_accuracy,on = 'tags1',how = 'left',suffixes=('_left', '_right'))\n",
    "#X_valid = X_valid.merge(tags1_accuracy,on = 'tags1',how = 'left',suffixes=('_left', '_right'))\n",
    "\n",
    "#print(X_valid.loc[X_valid.tags1_hit_rate.isnull()].tags1.nunique())\n",
    "\n",
    "#tags1_accuracy"
   ]
  },
  {
   "cell_type": "code",
   "execution_count": 32,
   "metadata": {
    "execution": {
     "iopub.execute_input": "2020-12-13T06:56:13.508809Z",
     "iopub.status.busy": "2020-12-13T06:56:13.507828Z",
     "iopub.status.idle": "2020-12-13T06:56:13.511055Z",
     "shell.execute_reply": "2020-12-13T06:56:13.511694Z"
    },
    "papermill": {
     "duration": 0.068241,
     "end_time": "2020-12-13T06:56:13.511857",
     "exception": false,
     "start_time": "2020-12-13T06:56:13.443616",
     "status": "completed"
    },
    "tags": []
   },
   "outputs": [],
   "source": [
    "#Feature engineering \n",
    "#task_container_id accuracy \n",
    "#task_container_accuracy = pd.DataFrame(X_train_plus_y.groupby('task_container_id').answered_correctly.agg(['mean'])).reset_index()\n",
    "#task_container_accuracy = task_container_accuracy.rename(columns = {'mean' : 'task_container_hit_rate'})\n",
    "\n",
    "#X_train = X_train.merge(task_container_accuracy,on = 'task_container_id',how = 'left',suffixes=('_left', '_right'))\n",
    "#X_valid = X_valid.merge(task_container_accuracy,on = 'task_container_id',how = 'left',suffixes=('_left', '_right'))\n",
    "\n",
    "#print(X_valid.loc[X_valid.task_container_hit_rate.isnull()].task_container_id.nunique())\n",
    "#task_container_accuracy"
   ]
  },
  {
   "cell_type": "code",
   "execution_count": 33,
   "metadata": {
    "execution": {
     "iopub.execute_input": "2020-12-13T06:56:13.608633Z",
     "iopub.status.busy": "2020-12-13T06:56:13.607822Z",
     "iopub.status.idle": "2020-12-13T06:56:13.635132Z",
     "shell.execute_reply": "2020-12-13T06:56:13.635877Z"
    },
    "papermill": {
     "duration": 0.07901,
     "end_time": "2020-12-13T06:56:13.636081",
     "exception": false,
     "start_time": "2020-12-13T06:56:13.557071",
     "status": "completed"
    },
    "tags": []
   },
   "outputs": [
    {
     "name": "stdout",
     "output_type": "stream",
     "text": [
      "<class 'pandas.core.frame.DataFrame'>\n",
      "Int64Index: 392217 entries, 0 to 392216\n",
      "Data columns (total 17 columns):\n",
      " #   Column                          Non-Null Count   Dtype  \n",
      "---  ------                          --------------   -----  \n",
      " 0   timestamp                       392217 non-null  float64\n",
      " 1   user_id                         392217 non-null  float64\n",
      " 2   content_id                      392217 non-null  float64\n",
      " 3   task_container_id               392217 non-null  float64\n",
      " 4   prior_question_elapsed_time     392217 non-null  float64\n",
      " 5   prior_question_had_explanation  392217 non-null  float64\n",
      " 6   bundle_id                       392217 non-null  float64\n",
      " 7   correct_answer                  392217 non-null  float64\n",
      " 8   part                            392217 non-null  float64\n",
      " 9   tags1                           392217 non-null  float64\n",
      " 10  tags2                           392217 non-null  float64\n",
      " 11  tags3                           392217 non-null  float64\n",
      " 12  tags4                           392217 non-null  float64\n",
      " 13  tags5                           392217 non-null  float64\n",
      " 14  tags6                           392217 non-null  float64\n",
      " 15  question_hit_rate               392144 non-null  float64\n",
      " 16  question_shown_count            392144 non-null  float64\n",
      "dtypes: float64(17)\n",
      "memory usage: 53.9 MB\n"
     ]
    }
   ],
   "source": [
    "X_valid.info()"
   ]
  },
  {
   "cell_type": "code",
   "execution_count": 34,
   "metadata": {
    "execution": {
     "iopub.execute_input": "2020-12-13T06:56:13.743519Z",
     "iopub.status.busy": "2020-12-13T06:56:13.741845Z",
     "iopub.status.idle": "2020-12-13T06:56:13.746088Z",
     "shell.execute_reply": "2020-12-13T06:56:13.745226Z"
    },
    "papermill": {
     "duration": 0.060741,
     "end_time": "2020-12-13T06:56:13.746240",
     "exception": false,
     "start_time": "2020-12-13T06:56:13.685499",
     "status": "completed"
    },
    "tags": []
   },
   "outputs": [],
   "source": [
    "#Checking for the best xgb_threshold value\n",
    "#for i in np.arange(0.6,0.7,0.01):\n",
    "#    xgb_threshold = i\n",
    "#    model_xgb, error = get_xgb(X_train, X_valid, y_train, y_valid)\n",
    "#    print('AUC for '+str(i)+' is '+ str(error))\n",
    "#0.65 had the best AUC"
   ]
  },
  {
   "cell_type": "code",
   "execution_count": 35,
   "metadata": {
    "execution": {
     "iopub.execute_input": "2020-12-13T06:56:13.852403Z",
     "iopub.status.busy": "2020-12-13T06:56:13.851608Z",
     "iopub.status.idle": "2020-12-13T06:56:58.028147Z",
     "shell.execute_reply": "2020-12-13T06:56:58.027318Z"
    },
    "papermill": {
     "duration": 44.23363,
     "end_time": "2020-12-13T06:56:58.028286",
     "exception": false,
     "start_time": "2020-12-13T06:56:13.794656",
     "status": "completed"
    },
    "tags": []
   },
   "outputs": [
    {
     "name": "stdout",
     "output_type": "stream",
     "text": [
      "AUC for test data is : 0.657181896784011\n",
      "AUC for train data is : 0.6711513241940401\n"
     ]
    },
    {
     "data": {
      "image/png": "[encoded data removed]",
      "text/plain": [
       "<Figure size 432x288 with 1 Axes>"
      ]
     },
     "metadata": {
      "needs_background": "light"
     },
     "output_type": "display_data"
    }
   ],
   "source": [
    "#Model\n",
    "#XGBoost\n",
    "\n",
    "\n",
    "#checking with new model\n",
    "xgb_model = get_xgb_overfit_check(X_train, X_valid, y_train, y_valid)\n"
   ]
  },
  {
   "cell_type": "code",
   "execution_count": 36,
   "metadata": {
    "execution": {
     "iopub.execute_input": "2020-12-13T06:56:58.138810Z",
     "iopub.status.busy": "2020-12-13T06:56:58.138014Z",
     "iopub.status.idle": "2020-12-13T06:56:58.867417Z",
     "shell.execute_reply": "2020-12-13T06:56:58.868363Z"
    },
    "papermill": {
     "duration": 0.790763,
     "end_time": "2020-12-13T06:56:58.868602",
     "exception": false,
     "start_time": "2020-12-13T06:56:58.077839",
     "status": "completed"
    },
    "tags": []
   },
   "outputs": [
    {
     "name": "stdout",
     "output_type": "stream",
     "text": [
      "AUC is : 0.7188611838128982\n"
     ]
    },
    {
     "data": {
      "image/png": "[encoded data removed]",
      "text/plain": [
       "<Figure size 432x288 with 1 Axes>"
      ]
     },
     "metadata": {
      "needs_background": "light"
     },
     "output_type": "display_data"
    }
   ],
   "source": [
    "#Showig how AUC is different if we dont call (pred >= xgb_threshold)\n",
    "\n",
    "D_test = xgb.DMatrix(X_valid)\n",
    "pred = xgb_model.predict(D_test)\n",
    "roc_auc = get_roc_data(y_valid,pred)\n",
    "print('AUC is : '+ str(roc_auc))\n",
    "#AUC is : 0.648535236410687 #hit_rate + high_accuracy_question + low_accuracy_question + with leakage\n",
    "#AUC is : 0.648535236410687 #hit_rate + with leakage\n",
    "#AUC is : 0.6497669237360347 #question hit_rate + question_count + no leakage\n",
    "#AUC is : 0.6515780212479896 #Fill by na(0 &1 ) + question hit_rate + question_count + no leakage\n",
    "#AUC is : 0.6488785264625494 #Fill by na(0 &1 ) + question hit_rate + question_count + no leakage + user answer count\n",
    "#AUC is : 0.707353504193343 #Fill by na(0 &1 ) + question hit_rate + question_count + no leakage + Use merge for questions\n",
    "#AUC is : 0.7077340398970969 #Fill by na(0 &1 ) + question hit_rate + question_count + no leakage + Use merge for questions + dont impute tags\n",
    "#AUC is : 0.707353504193343 #Fill by na(0 &1 ) + question hit_rate + question_count + no leakage + Use merge for questions + dont impute tags + tags fill -999999\n",
    "#AUC is : 0.7078187632238334 #Fill by na(0 &1 ) + question hi t_rate + question_count + no leakage + Use merge for questions + dont impute tags + tags fill 999999\n",
    "#AUC is : 0.7074413605069291 #Fill by na(0 &1 ) + question hi t_rate + question_count + no leakage + Use merge for questions + dont impute tags + tags fill 999999 + tags1 hit rate + tags 1count \n",
    "#AUC is : 0.6981012344897761 #Fill by na(0 &1 ) + question hi t_rate + question_count + no leakage + Use merge for questions + dont impute tags + tags fill 999999 + task container hit rate + task container 1count\n",
    "#AUC is : 0.6980741768469736 #Fill by na(0 &1 ) + question hi t_rate + question_count + no leakage + Use merge for questions + dont impute tags + tags fill 999999 + task container hit rate\n",
    "#AUC is : 0.7127142878709594 #Fill by na(0 &1 ) + question hi t_rate + question_count + no leakage + Use merge for questions + dont impute tags + tags fill 999999 + training sample 1,000,000\n",
    "#AUC is : 0.7245025584453728 #Fill by na(0 &1 ) + question hi t_rate + question_count + no leakage + Use merge for questions + dont impute tags + tags fill 999999 + training sample 10,000,000\n",
    "#AUC is : 0.7236795322410227 #Fill by na(0 &1 ) + question hi t_rate + question_count + no leakage + Use merge for questions + dont impute tags + tags fill 999999 + training sample 5,000,000\n",
    "#AUC is : 0.7188611838128982 #Fill by na(0 &1 ) + question hi t_rate + question_count + no leakage + Use merge for questions + dont impute tags + tags fill 999999 + training sample 2,000,000"
   ]
  },
  {
   "cell_type": "code",
   "execution_count": 37,
   "metadata": {
    "execution": {
     "iopub.execute_input": "2020-12-13T06:56:58.994036Z",
     "iopub.status.busy": "2020-12-13T06:56:58.993040Z",
     "iopub.status.idle": "2020-12-13T06:56:58.997084Z",
     "shell.execute_reply": "2020-12-13T06:56:58.997654Z"
    },
    "papermill": {
     "duration": 0.07102,
     "end_time": "2020-12-13T06:56:58.997830",
     "exception": false,
     "start_time": "2020-12-13T06:56:58.926810",
     "status": "completed"
    },
    "tags": []
   },
   "outputs": [],
   "source": [
    "#Analyzing XGB Model\n",
    "#Feature importance\n",
    "#plt.figure(figsize = (20,20))\n",
    "#get_xgb_f_imp(xgb_model)"
   ]
  },
  {
   "cell_type": "code",
   "execution_count": 38,
   "metadata": {
    "execution": {
     "iopub.execute_input": "2020-12-13T06:56:59.105319Z",
     "iopub.status.busy": "2020-12-13T06:56:59.104307Z",
     "iopub.status.idle": "2020-12-13T06:56:59.108382Z",
     "shell.execute_reply": "2020-12-13T06:56:59.107596Z"
    },
    "papermill": {
     "duration": 0.060474,
     "end_time": "2020-12-13T06:56:59.108551",
     "exception": false,
     "start_time": "2020-12-13T06:56:59.048077",
     "status": "completed"
    },
    "tags": []
   },
   "outputs": [],
   "source": [
    "#SHAP values\n",
    "#get_shap_values(xgb_model,X_valid)"
   ]
  },
  {
   "cell_type": "code",
   "execution_count": 39,
   "metadata": {
    "execution": {
     "iopub.execute_input": "2020-12-13T06:56:59.228948Z",
     "iopub.status.busy": "2020-12-13T06:56:59.228048Z",
     "iopub.status.idle": "2020-12-13T06:56:59.232414Z",
     "shell.execute_reply": "2020-12-13T06:56:59.231684Z"
    },
    "papermill": {
     "duration": 0.064691,
     "end_time": "2020-12-13T06:56:59.232565",
     "exception": false,
     "start_time": "2020-12-13T06:56:59.167874",
     "status": "completed"
    },
    "tags": []
   },
   "outputs": [],
   "source": [
    "#Tuning XGB\n",
    "#D_train = xgb.DMatrix(X_train, y_train)\n",
    "#D_valid = xgb.DMatrix(X_valid, y_valid)\n",
    "\n",
    "#watchlist = [(D_train, 'train'), (D_valid, 'valid')]\n",
    "\n",
    "#xgb_model = xgb.train(xgb_param, D_train, 2000, watchlist, early_stopping_rounds = 100, verbose_eval = 10)\n"
   ]
  },
  {
   "cell_type": "code",
   "execution_count": 40,
   "metadata": {
    "execution": {
     "iopub.execute_input": "2020-12-13T06:56:59.340987Z",
     "iopub.status.busy": "2020-12-13T06:56:59.339888Z",
     "iopub.status.idle": "2020-12-13T06:56:59.343831Z",
     "shell.execute_reply": "2020-12-13T06:56:59.343145Z"
    },
    "papermill": {
     "duration": 0.06065,
     "end_time": "2020-12-13T06:56:59.343984",
     "exception": false,
     "start_time": "2020-12-13T06:56:59.283334",
     "status": "completed"
    },
    "tags": []
   },
   "outputs": [],
   "source": [
    "#Analyzing XGB Model\n",
    "#Feature importance\n",
    "#plt.figure(figsize = (20,20))\n",
    "#get_xgb_f_imp(model)"
   ]
  },
  {
   "cell_type": "code",
   "execution_count": 41,
   "metadata": {
    "execution": {
     "iopub.execute_input": "2020-12-13T06:56:59.473384Z",
     "iopub.status.busy": "2020-12-13T06:56:59.471545Z",
     "iopub.status.idle": "2020-12-13T06:56:59.476017Z",
     "shell.execute_reply": "2020-12-13T06:56:59.475255Z"
    },
    "papermill": {
     "duration": 0.071153,
     "end_time": "2020-12-13T06:56:59.476175",
     "exception": false,
     "start_time": "2020-12-13T06:56:59.405022",
     "status": "completed"
    },
    "tags": []
   },
   "outputs": [],
   "source": [
    "#SHAP values\n",
    "#get_shap_values(model,X_valid)"
   ]
  },
  {
   "cell_type": "code",
   "execution_count": 42,
   "metadata": {
    "execution": {
     "iopub.execute_input": "2020-12-13T06:56:59.593359Z",
     "iopub.status.busy": "2020-12-13T06:56:59.592423Z",
     "iopub.status.idle": "2020-12-13T06:57:00.172799Z",
     "shell.execute_reply": "2020-12-13T06:57:00.173416Z"
    },
    "papermill": {
     "duration": 0.6448,
     "end_time": "2020-12-13T06:57:00.173692",
     "exception": false,
     "start_time": "2020-12-13T06:56:59.528892",
     "status": "completed"
    },
    "tags": []
   },
   "outputs": [],
   "source": [
    "#Check prediction\n",
    "\n",
    "for (test_df, sample_prediction_df) in iter_test:\n",
    "    \n",
    "    test_df = test_df.set_index('row_id')\n",
    "    test_copy = test_df.copy()\n",
    "    \n",
    "    test_copy = test_copy.drop(test_copy[test_copy.content_type_id == 1].index,axis = 0)\n",
    "    drop_cols = ['prior_group_answers_correct','prior_group_responses','content_type_id']\n",
    "    test_copy = test_copy.drop(columns = drop_cols,axis = 1)\n",
    "    \n",
    "    test_copy.prior_question_had_explanation = test_copy.prior_question_had_explanation*1 #converting boolian to number\n",
    "\n",
    "    \n",
    "    \n",
    "    #test_questions_X = test_copy.join(questions, on = 'content_id', how = 'left', lsuffix = ' ')\n",
    "    test_questions_X = test_copy.merge(questions_tag_pr,on = 'content_id', how = 'left', suffixes = ('_left', '_right'))\n",
    "    #drop_cols = ['content_id']\n",
    "    \n",
    "    #test_questions_X = test_questions_X.drop(drop_cols, axis = 1)\n",
    "    #test_questions_X =  test_questions_X.rename(columns = {'content_id ':'content_id'})\n",
    "    \n",
    "    test_copy_imp = test_questions_X.copy()\n",
    "    test_copy_imp.prior_question_elapsed_time = test_copy_imp.prior_question_elapsed_time.fillna(0)\n",
    "    test_copy_imp.prior_question_had_explanation = test_copy_imp.prior_question_had_explanation.fillna(1)\n",
    "\n",
    "\n",
    "    test_copy_imp = impute_num(test_copy_imp ,num_imp_str)\n",
    "\n",
    "    test_copy_imp = test_copy_imp.merge(question_accuracy,on = 'content_id',how = 'left',suffixes=('_left', '_right'))\n",
    "    \n",
    "    \n",
    "    \n",
    "    D_test = xgb.DMatrix(test_copy_imp)\n",
    "    pred = xgb_model.predict(D_test)\n",
    "    #pred = (pred >= xgb_threshold )*1\n",
    "    \n",
    "    df = pd.DataFrame({'row_id': test_copy.index, 'answered_correctly': pred})\n",
    "    df = df.set_index('row_id')\n",
    "    test_df = test_df.join(df)\n",
    "    test_df.answered_correctly.fillna(-1, inplace = True)\n",
    "    \n",
    "    \n",
    "    test_df = test_df.reset_index()\n",
    "    env.predict(test_df.loc[test_df['content_type_id'] == 0, ['row_id', 'answered_correctly']])"
   ]
  },
  {
   "cell_type": "code",
   "execution_count": 43,
   "metadata": {
    "execution": {
     "iopub.execute_input": "2020-12-13T06:57:00.291445Z",
     "iopub.status.busy": "2020-12-13T06:57:00.290245Z",
     "iopub.status.idle": "2020-12-13T06:57:00.294136Z",
     "shell.execute_reply": "2020-12-13T06:57:00.293309Z"
    },
    "papermill": {
     "duration": 0.065309,
     "end_time": "2020-12-13T06:57:00.294286",
     "exception": false,
     "start_time": "2020-12-13T06:57:00.228977",
     "status": "completed"
    },
    "tags": []
   },
   "outputs": [],
   "source": [
    "#To Do\n",
    "#Use part \n",
    "#One hot encoding of Part --> Didnt give good result\n",
    "#Add tags \n",
    "#process them and one hot encoding --> Didnt give good result \n",
    "#Add lectures --> Not needed\n",
    "#Change order , join with questions after imputing \n",
    "#Feature engineering \n",
    "    #Users correct rate --> Didnt give good result  --> Data leakage\n",
    "    #Questions correct rate \n",
    "    #Part accuracy --> Didnt give good result\n",
    "#--------------------\n",
    "#Feature engineering \n",
    "    #Other features?\n",
    "\n",
    "#Move out from Pandas \n",
    "#Use full data\n",
    "#Try Light GBM\n",
    "#Check if I reuse any data provided by the loop"
   ]
  },
  {
   "cell_type": "code",
   "execution_count": null,
   "metadata": {
    "papermill": {
     "duration": 0.05963,
     "end_time": "2020-12-13T06:57:00.406514",
     "exception": false,
     "start_time": "2020-12-13T06:57:00.346884",
     "status": "completed"
    },
    "tags": []
   },
   "outputs": [],
   "source": []
  },
  {
   "cell_type": "code",
   "execution_count": null,
   "metadata": {
    "papermill": {
     "duration": 0.056643,
     "end_time": "2020-12-13T06:57:00.518239",
     "exception": false,
     "start_time": "2020-12-13T06:57:00.461596",
     "status": "completed"
    },
    "tags": []
   },
   "outputs": [],
   "source": []
  }
 ],
 "metadata": {
  "kernelspec": {
   "display_name": "Python 3",
   "language": "python",
   "name": "python3"
  },
  "language_info": {
   "codemirror_mode": {
    "name": "ipython",
    "version": 3
   },
   "file_extension": ".py",
   "mimetype": "text/x-python",
   "name": "python",
   "nbconvert_exporter": "python",
   "pygments_lexer": "ipython3",
   "version": "3.7.6"
  },
  "papermill": {
   "duration": 429.020552,
   "end_time": "2020-12-13T06:57:00.686596",
   "environment_variables": {},
   "exception": null,
   "input_path": "__notebook__.ipynb",
   "output_path": "__notebook__.ipynb",
   "parameters": {},
   "start_time": "2020-12-13T06:49:51.666044",
   "version": "2.1.0"
  }
 },
 "nbformat": 4,
 "nbformat_minor": 4
}
