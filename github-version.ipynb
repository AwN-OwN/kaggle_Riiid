{
 "cells": [
  {
   "cell_type": "code",
   "execution_count": 1,
   "metadata": {
    "_cell_guid": "b1076dfc-b9ad-4769-8c92-a6c4dae69d19",
    "_uuid": "8f2839f25d086af736a60e9eeb907d3b93b6e0e5",
    "execution": {
     "iopub.execute_input": "2021-01-31T10:01:55.408774Z",
     "iopub.status.busy": "2021-01-31T10:01:55.408056Z",
     "iopub.status.idle": "2021-01-31T10:01:55.451138Z",
     "shell.execute_reply": "2021-01-31T10:01:55.450528Z"
    },
    "papermill": {
     "duration": 0.06542,
     "end_time": "2021-01-31T10:01:55.451270",
     "exception": false,
     "start_time": "2021-01-31T10:01:55.385850",
     "status": "completed"
    },
    "tags": []
   },
   "outputs": [
    {
     "name": "stdout",
     "output_type": "stream",
     "text": [
      "/kaggle/input/riiid-test-answer-prediction/example_sample_submission.csv\n",
      "/kaggle/input/riiid-test-answer-prediction/example_test.csv\n",
      "/kaggle/input/riiid-test-answer-prediction/questions.csv\n",
      "/kaggle/input/riiid-test-answer-prediction/train.csv\n",
      "/kaggle/input/riiid-test-answer-prediction/lectures.csv\n",
      "/kaggle/input/riiid-test-answer-prediction/riiideducation/competition.cpython-37m-x86_64-linux-gnu.so\n",
      "/kaggle/input/riiid-test-answer-prediction/riiideducation/__init__.py\n"
     ]
    }
   ],
   "source": [
    "#Setting up competition libraries  \n",
    "import numpy as np # linear algebra\n",
    "import pandas as pd # data processing, CSV file I/O (e.g. pd.read_csv)\n",
    "import riiideducation\n",
    "\n",
    "\n",
    "import os\n",
    "for dirname, _, filenames in os.walk('/kaggle/input'):\n",
    "    for filename in filenames:\n",
    "        print(os.path.join(dirname, filename))"
   ]
  },
  {
   "cell_type": "code",
   "execution_count": 2,
   "metadata": {
    "execution": {
     "iopub.execute_input": "2021-01-31T10:01:55.491181Z",
     "iopub.status.busy": "2021-01-31T10:01:55.490547Z",
     "iopub.status.idle": "2021-01-31T10:01:57.836777Z",
     "shell.execute_reply": "2021-01-31T10:01:57.835198Z"
    },
    "papermill": {
     "duration": 2.367006,
     "end_time": "2021-01-31T10:01:57.836912",
     "exception": false,
     "start_time": "2021-01-31T10:01:55.469906",
     "status": "completed"
    },
    "tags": []
   },
   "outputs": [],
   "source": [
    "#initializing libraries\n",
    "from sklearn.model_selection import train_test_split\n",
    "import sklearn.metrics as metrics\n",
    "from sklearn.impute import SimpleImputer\n",
    "from sklearn.ensemble import RandomForestClassifier\n",
    "import lightgbm as lgb\n",
    "import xgboost as xgb\n",
    "import matplotlib.pyplot as plt\n",
    "import gc"
   ]
  },
  {
   "cell_type": "code",
   "execution_count": 3,
   "metadata": {
    "execution": {
     "iopub.execute_input": "2021-01-31T10:01:57.876223Z",
     "iopub.status.busy": "2021-01-31T10:01:57.875405Z",
     "iopub.status.idle": "2021-01-31T10:01:57.878511Z",
     "shell.execute_reply": "2021-01-31T10:01:57.877853Z"
    },
    "papermill": {
     "duration": 0.02676,
     "end_time": "2021-01-31T10:01:57.878640",
     "exception": false,
     "start_time": "2021-01-31T10:01:57.851880",
     "status": "completed"
    },
    "tags": []
   },
   "outputs": [],
   "source": [
    "#Setting global variables \n",
    "random_seed = 0\n",
    "train_ratio = 0.8\n",
    "test_ratio = 1-train_ratio \n",
    "num_imp_str = 'median'\n",
    "\n",
    "#training sample \n",
    "sample_size = 18000000 #18% of total\n",
    "\n",
    "#LightGBM parameters\n",
    "params = {'objective': 'binary',\n",
    "          'metric': 'auc',\n",
    "          'seed': random_seed,\n",
    "          'learning_rate': 0.1, #default\n",
    "          \"boosting_type\": \"gbdt\" #default\n",
    "         }"
   ]
  },
  {
   "cell_type": "code",
   "execution_count": 4,
   "metadata": {
    "execution": {
     "iopub.execute_input": "2021-01-31T10:01:57.917476Z",
     "iopub.status.busy": "2021-01-31T10:01:57.916748Z",
     "iopub.status.idle": "2021-01-31T10:07:03.571996Z",
     "shell.execute_reply": "2021-01-31T10:07:03.572868Z"
    },
    "papermill": {
     "duration": 305.679583,
     "end_time": "2021-01-31T10:07:03.573231",
     "exception": false,
     "start_time": "2021-01-31T10:01:57.893648",
     "status": "completed"
    },
    "tags": []
   },
   "outputs": [
    {
     "name": "stdout",
     "output_type": "stream",
     "text": [
      "<class 'pandas.core.frame.DataFrame'>\n",
      "Int64Index: 101230332 entries, 0 to 101230331\n",
      "Data columns (total 9 columns):\n",
      " #   Column                          Dtype  \n",
      "---  ------                          -----  \n",
      " 0   timestamp                       int64  \n",
      " 1   user_id                         int32  \n",
      " 2   content_id                      int16  \n",
      " 3   content_type_id                 int8   \n",
      " 4   task_container_id               int16  \n",
      " 5   user_answer                     int8   \n",
      " 6   answered_correctly              int8   \n",
      " 7   prior_question_elapsed_time     float32\n",
      " 8   prior_question_had_explanation  boolean\n",
      "dtypes: boolean(1), float32(1), int16(2), int32(1), int64(1), int8(3)\n",
      "memory usage: 3.1 GB\n"
     ]
    }
   ],
   "source": [
    "#loading training data\n",
    "train = pd.read_csv('/kaggle/input/riiid-test-answer-prediction/train.csv',  \n",
    "                       dtype={'row_id': 'int64', 'timestamp': 'int64', 'user_id': 'int32', 'content_id': 'int16', 'content_type_id': 'int8',\n",
    "                              'task_container_id': 'int16', 'user_answer': 'int8', 'answered_correctly': 'int8', 'prior_question_elapsed_time': 'float32', \n",
    "                             'prior_question_had_explanation': 'boolean',\n",
    "                             }\n",
    "                      )\n",
    "train = train.set_index('row_id')\n",
    "train.info()"
   ]
  },
  {
   "cell_type": "code",
   "execution_count": 5,
   "metadata": {
    "execution": {
     "iopub.execute_input": "2021-01-31T10:07:03.616385Z",
     "iopub.status.busy": "2021-01-31T10:07:03.615659Z",
     "iopub.status.idle": "2021-01-31T10:07:03.639456Z",
     "shell.execute_reply": "2021-01-31T10:07:03.640028Z"
    },
    "papermill": {
     "duration": 0.050299,
     "end_time": "2021-01-31T10:07:03.640178",
     "exception": false,
     "start_time": "2021-01-31T10:07:03.589879",
     "status": "completed"
    },
    "tags": []
   },
   "outputs": [],
   "source": [
    "#reading questions data\n",
    "questions = pd.read_csv('/kaggle/input/riiid-test-answer-prediction/questions.csv')\n",
    "questions = questions.rename(columns = {'question_id':'content_id'})"
   ]
  },
  {
   "cell_type": "code",
   "execution_count": 6,
   "metadata": {
    "execution": {
     "iopub.execute_input": "2021-01-31T10:07:03.675929Z",
     "iopub.status.busy": "2021-01-31T10:07:03.675270Z",
     "iopub.status.idle": "2021-01-31T10:07:03.681018Z",
     "shell.execute_reply": "2021-01-31T10:07:03.681700Z"
    },
    "papermill": {
     "duration": 0.025752,
     "end_time": "2021-01-31T10:07:03.681852",
     "exception": false,
     "start_time": "2021-01-31T10:07:03.656100",
     "status": "completed"
    },
    "tags": []
   },
   "outputs": [],
   "source": [
    "#creating train-test split\n",
    "def get_train_split(X, y):\n",
    "    X_train , X_valid, y_train ,y_valid = train_test_split(X, y, train_size = train_ratio, \n",
    "                                                           test_size = test_ratio, random_state = random_seed)\n",
    "    return(X_train, X_valid, y_train, y_valid)"
   ]
  },
  {
   "cell_type": "code",
   "execution_count": 7,
   "metadata": {
    "execution": {
     "iopub.execute_input": "2021-01-31T10:07:03.717688Z",
     "iopub.status.busy": "2021-01-31T10:07:03.716968Z",
     "iopub.status.idle": "2021-01-31T10:07:03.725281Z",
     "shell.execute_reply": "2021-01-31T10:07:03.724753Z"
    },
    "papermill": {
     "duration": 0.027187,
     "end_time": "2021-01-31T10:07:03.725400",
     "exception": false,
     "start_time": "2021-01-31T10:07:03.698213",
     "status": "completed"
    },
    "tags": []
   },
   "outputs": [],
   "source": [
    "#creating lgbm model and training \n",
    "def get_lgb(X_train, X_valid, y_train, y_valid):\n",
    "    lgb_train = lgb.Dataset(X_train, y_train, categorical_feature = None)\n",
    "    lgb_eval = lgb.Dataset(X_valid, y_valid, categorical_feature = None)\n",
    "    \n",
    "    #training\n",
    "    model = lgb.train(\n",
    "    params, lgb_train,\n",
    "    valid_sets=[lgb_train, lgb_eval],\n",
    "    verbose_eval=50,\n",
    "    num_boost_round=10000,\n",
    "    early_stopping_rounds=8\n",
    "    )\n",
    "    return(model)"
   ]
  },
  {
   "cell_type": "code",
   "execution_count": 8,
   "metadata": {
    "execution": {
     "iopub.execute_input": "2021-01-31T10:07:03.764635Z",
     "iopub.status.busy": "2021-01-31T10:07:03.763871Z",
     "iopub.status.idle": "2021-01-31T10:07:03.767001Z",
     "shell.execute_reply": "2021-01-31T10:07:03.766393Z"
    },
    "papermill": {
     "duration": 0.02549,
     "end_time": "2021-01-31T10:07:03.767111",
     "exception": false,
     "start_time": "2021-01-31T10:07:03.741621",
     "status": "completed"
    },
    "tags": []
   },
   "outputs": [],
   "source": [
    "#missing data imputer\n",
    "def impute_num(data ,impute_strategy):\n",
    "    num_imputer = SimpleImputer(strategy=impute_strategy)\n",
    "    data_imputed = pd.DataFrame(num_imputer.fit_transform(data))\n",
    "    data_imputed.columns = data.columns\n",
    "    data_imputed.index = data.index\n",
    "    return(data_imputed)"
   ]
  },
  {
   "cell_type": "code",
   "execution_count": 9,
   "metadata": {
    "execution": {
     "iopub.execute_input": "2021-01-31T10:07:03.811165Z",
     "iopub.status.busy": "2021-01-31T10:07:03.807829Z",
     "iopub.status.idle": "2021-01-31T10:07:03.814692Z",
     "shell.execute_reply": "2021-01-31T10:07:03.814127Z"
    },
    "papermill": {
     "duration": 0.031571,
     "end_time": "2021-01-31T10:07:03.814820",
     "exception": false,
     "start_time": "2021-01-31T10:07:03.783249",
     "status": "completed"
    },
    "tags": []
   },
   "outputs": [],
   "source": [
    "#Preprocessing questions\n",
    "#Process Tags\n",
    "#Getting the tags out from the column\n",
    "\n",
    "def process_tags(questions):\n",
    "    \n",
    "    tag = questions[\"tags\"].str.split(\" \", n = 6, expand = True) \n",
    "    tag.columns = ['tags1','tags2','tags3','tags4','tags5','tags6']\n",
    "    \n",
    "    #Conveting from string to numeric\n",
    "    tag['tags1'] = pd.to_numeric(tag['tags1'], errors='coerce')\n",
    "    tag['tags2'] = pd.to_numeric(tag['tags2'], errors='coerce')\n",
    "    tag['tags3'] = pd.to_numeric(tag['tags3'], errors='coerce')\n",
    "    tag['tags4'] = pd.to_numeric(tag['tags4'], errors='coerce')\n",
    "    tag['tags5'] = pd.to_numeric(tag['tags5'], errors='coerce')\n",
    "    tag['tags6'] = pd.to_numeric(tag['tags6'], errors='coerce')\n",
    "    \n",
    "    #imputing missing tag values \n",
    "    tag = tag.fillna(99999)\n",
    "    \n",
    "    drop_cols = ['tags','correct_answer']\n",
    "    \n",
    "    #Merging tags back to questions \n",
    "    questions = questions.drop(columns = drop_cols, axis = 1).join(tag)\n",
    "    \n",
    "    return questions"
   ]
  },
  {
   "cell_type": "code",
   "execution_count": 10,
   "metadata": {
    "execution": {
     "iopub.execute_input": "2021-01-31T10:07:03.858470Z",
     "iopub.status.busy": "2021-01-31T10:07:03.857748Z",
     "iopub.status.idle": "2021-01-31T10:07:27.612661Z",
     "shell.execute_reply": "2021-01-31T10:07:27.612049Z"
    },
    "papermill": {
     "duration": 23.781732,
     "end_time": "2021-01-31T10:07:27.612805",
     "exception": false,
     "start_time": "2021-01-31T10:07:03.831073",
     "status": "completed"
    },
    "tags": []
   },
   "outputs": [],
   "source": [
    "#Feature engineering\n",
    "#adding user features\n",
    "user_df = train[train.answered_correctly != -1].groupby('user_id').agg({'answered_correctly': ['count', 'mean']}).reset_index()\n",
    "user_df.columns = ['user_id', 'user_questions', 'user_mean']\n",
    "\n",
    "user_lect = train.groupby([\"user_id\", \"answered_correctly\"]).size().unstack()\n",
    "user_lect.columns = ['Lecture', 'Wrong', 'Right']\n",
    "user_lect['Lecture'] = user_lect['Lecture'].fillna(0)\n",
    "user_lect = user_lect.astype('Int64')\n",
    "user_lect['watches_lecture'] = np.where(user_lect.Lecture > 0, 1, 0)\n",
    "user_lect = user_lect.reset_index()\n",
    "user_lect = user_lect[['user_id', 'watches_lecture']]\n",
    "\n",
    "user_df = user_df.merge(user_lect, on = \"user_id\", how = \"left\")\n",
    "del user_lect"
   ]
  },
  {
   "cell_type": "code",
   "execution_count": 11,
   "metadata": {
    "execution": {
     "iopub.execute_input": "2021-01-31T10:07:27.652808Z",
     "iopub.status.busy": "2021-01-31T10:07:27.652077Z",
     "iopub.status.idle": "2021-01-31T10:07:45.651365Z",
     "shell.execute_reply": "2021-01-31T10:07:45.650775Z"
    },
    "papermill": {
     "duration": 18.022261,
     "end_time": "2021-01-31T10:07:45.651509",
     "exception": false,
     "start_time": "2021-01-31T10:07:27.629248",
     "status": "completed"
    },
    "tags": []
   },
   "outputs": [],
   "source": [
    "#Feature engineering\n",
    "#adding content features \n",
    "content_df = train[train.answered_correctly != -1].groupby('content_id').agg({'answered_correctly': ['count', 'mean']}).reset_index()\n",
    "content_df.columns = ['content_id', 'content_questions', 'content_mean']"
   ]
  },
  {
   "cell_type": "code",
   "execution_count": 12,
   "metadata": {
    "execution": {
     "iopub.execute_input": "2021-01-31T10:07:45.691611Z",
     "iopub.status.busy": "2021-01-31T10:07:45.690877Z",
     "iopub.status.idle": "2021-01-31T10:07:55.490908Z",
     "shell.execute_reply": "2021-01-31T10:07:55.490189Z"
    },
    "papermill": {
     "duration": 9.822305,
     "end_time": "2021-01-31T10:07:55.491022",
     "exception": false,
     "start_time": "2021-01-31T10:07:45.668717",
     "status": "completed"
    },
    "tags": []
   },
   "outputs": [
    {
     "data": {
      "text/plain": [
       "40"
      ]
     },
     "execution_count": 12,
     "metadata": {},
     "output_type": "execute_result"
    }
   ],
   "source": [
    "#Sampling from train data due to RAM limitation\n",
    "#Preprocessing\n",
    "train_sample = train.sample(n = sample_size, random_state = random_seed).copy()\n",
    "del(train)\n",
    "gc.collect()"
   ]
  },
  {
   "cell_type": "code",
   "execution_count": 13,
   "metadata": {
    "execution": {
     "iopub.execute_input": "2021-01-31T10:07:55.534207Z",
     "iopub.status.busy": "2021-01-31T10:07:55.533481Z",
     "iopub.status.idle": "2021-01-31T10:08:01.684147Z",
     "shell.execute_reply": "2021-01-31T10:08:01.683366Z"
    },
    "papermill": {
     "duration": 6.176345,
     "end_time": "2021-01-31T10:08:01.684296",
     "exception": false,
     "start_time": "2021-01-31T10:07:55.507951",
     "status": "completed"
    },
    "tags": []
   },
   "outputs": [
    {
     "data": {
      "text/plain": [
       "20"
      ]
     },
     "execution_count": 13,
     "metadata": {},
     "output_type": "execute_result"
    }
   ],
   "source": [
    "#Cleaning up sampled data\n",
    "train_sample.prior_question_had_explanation = train_sample.prior_question_had_explanation*1 #converting boolean to number\n",
    "train_sample = train_sample.drop(train_sample[train_sample.answered_correctly == -1].index,axis = 0)  # removing lectures \n",
    "drop_cols = ['user_answer','content_type_id']\n",
    "train_X = train_sample.drop(drop_cols, axis = 1)\n",
    "del(train_sample)\n",
    "gc.collect()"
   ]
  },
  {
   "cell_type": "code",
   "execution_count": 14,
   "metadata": {
    "execution": {
     "iopub.execute_input": "2021-01-31T10:08:01.742128Z",
     "iopub.status.busy": "2021-01-31T10:08:01.732820Z",
     "iopub.status.idle": "2021-01-31T10:08:01.813175Z",
     "shell.execute_reply": "2021-01-31T10:08:01.812475Z"
    },
    "papermill": {
     "duration": 0.111269,
     "end_time": "2021-01-31T10:08:01.813291",
     "exception": false,
     "start_time": "2021-01-31T10:08:01.702022",
     "status": "completed"
    },
    "tags": []
   },
   "outputs": [],
   "source": [
    "#Getting tag data \n",
    "questions_tag_pr = process_tags(questions)"
   ]
  },
  {
   "cell_type": "code",
   "execution_count": 15,
   "metadata": {
    "execution": {
     "iopub.execute_input": "2021-01-31T10:08:01.856330Z",
     "iopub.status.busy": "2021-01-31T10:08:01.855621Z",
     "iopub.status.idle": "2021-01-31T10:08:05.167607Z",
     "shell.execute_reply": "2021-01-31T10:08:05.166912Z"
    },
    "papermill": {
     "duration": 3.336728,
     "end_time": "2021-01-31T10:08:05.167728",
     "exception": false,
     "start_time": "2021-01-31T10:08:01.831000",
     "status": "completed"
    },
    "tags": []
   },
   "outputs": [
    {
     "data": {
      "text/plain": [
       "20"
      ]
     },
     "execution_count": 15,
     "metadata": {},
     "output_type": "execute_result"
    }
   ],
   "source": [
    "#Merging train data and tag data\n",
    "train_questions_X = train_X.merge(questions_tag_pr,on = 'content_id', how = 'left', suffixes = ('_left', '_right'))\n",
    "\n",
    "del(train_X)\n",
    "gc.collect()"
   ]
  },
  {
   "cell_type": "code",
   "execution_count": 16,
   "metadata": {
    "execution": {
     "iopub.execute_input": "2021-01-31T10:08:05.214466Z",
     "iopub.status.busy": "2021-01-31T10:08:05.212880Z",
     "iopub.status.idle": "2021-01-31T10:09:44.870305Z",
     "shell.execute_reply": "2021-01-31T10:09:44.870863Z"
    },
    "papermill": {
     "duration": 99.685214,
     "end_time": "2021-01-31T10:09:44.871036",
     "exception": false,
     "start_time": "2021-01-31T10:08:05.185822",
     "status": "completed"
    },
    "tags": []
   },
   "outputs": [
    {
     "data": {
      "text/plain": [
       "20"
      ]
     },
     "execution_count": 16,
     "metadata": {},
     "output_type": "execute_result"
    }
   ],
   "source": [
    "#Imputing input data\n",
    "y = train_questions_X.answered_correctly\n",
    "drop_cols = ['answered_correctly']\n",
    "train_questions_X = train_questions_X.drop(drop_cols, axis = 1)\n",
    "train_imp = train_questions_X.copy()\n",
    "train_imp.prior_question_elapsed_time = train_imp.prior_question_elapsed_time.fillna(0)\n",
    "train_imp.prior_question_had_explanation = train_imp.prior_question_had_explanation.fillna(1)\n",
    "train_imp = impute_num(train_imp ,num_imp_str)\n",
    "\n",
    "#Creating train, valid set \n",
    "X_train, X_valid, y_train, y_valid = get_train_split(train_imp, y)\n",
    "del(train_questions_X, train_imp)\n",
    "gc.collect()"
   ]
  },
  {
   "cell_type": "code",
   "execution_count": 17,
   "metadata": {
    "execution": {
     "iopub.execute_input": "2021-01-31T10:09:44.912239Z",
     "iopub.status.busy": "2021-01-31T10:09:44.911488Z",
     "iopub.status.idle": "2021-01-31T10:10:05.500635Z",
     "shell.execute_reply": "2021-01-31T10:10:05.499835Z"
    },
    "papermill": {
     "duration": 20.610913,
     "end_time": "2021-01-31T10:10:05.500779",
     "exception": false,
     "start_time": "2021-01-31T10:09:44.889866",
     "status": "completed"
    },
    "tags": []
   },
   "outputs": [],
   "source": [
    "#Merging engineered features \n",
    "\n",
    "X_train = X_train.merge(user_df,on = 'user_id',how = 'left',suffixes=('_left', '_right'))\n",
    "X_valid = X_valid.merge(user_df,on = 'user_id',how = 'left',suffixes=('_left', '_right'))\n",
    "X_train = X_train.merge(content_df,on = 'content_id',how = 'left',suffixes=('_left', '_right'))\n",
    "X_valid = X_valid.merge(content_df,on = 'content_id',how = 'left',suffixes=('_left', '_right'))"
   ]
  },
  {
   "cell_type": "code",
   "execution_count": 18,
   "metadata": {
    "execution": {
     "iopub.execute_input": "2021-01-31T10:10:05.546197Z",
     "iopub.status.busy": "2021-01-31T10:10:05.544796Z",
     "iopub.status.idle": "2021-01-31T11:47:12.301222Z",
     "shell.execute_reply": "2021-01-31T11:47:12.302075Z"
    },
    "papermill": {
     "duration": 5826.782008,
     "end_time": "2021-01-31T11:47:12.302568",
     "exception": false,
     "start_time": "2021-01-31T10:10:05.520560",
     "status": "completed"
    },
    "tags": []
   },
   "outputs": [
    {
     "name": "stdout",
     "output_type": "stream",
     "text": [
      "Training until validation scores don't improve for 8 rounds\n",
      "[50]\ttraining's auc: 0.758216\tvalid_1's auc: 0.758239\n",
      "[100]\ttraining's auc: 0.759384\tvalid_1's auc: 0.759339\n",
      "[150]\ttraining's auc: 0.759812\tvalid_1's auc: 0.759703\n",
      "[200]\ttraining's auc: 0.760105\tvalid_1's auc: 0.759925\n",
      "[250]\ttraining's auc: 0.760324\tvalid_1's auc: 0.760079\n",
      "[300]\ttraining's auc: 0.760532\tvalid_1's auc: 0.760224\n",
      "[350]\ttraining's auc: 0.760705\tvalid_1's auc: 0.760328\n",
      "[400]\ttraining's auc: 0.760878\tvalid_1's auc: 0.760425\n",
      "[450]\ttraining's auc: 0.76105\tvalid_1's auc: 0.760521\n",
      "[500]\ttraining's auc: 0.761215\tvalid_1's auc: 0.760611\n",
      "[550]\ttraining's auc: 0.761367\tvalid_1's auc: 0.760692\n",
      "[600]\ttraining's auc: 0.761503\tvalid_1's auc: 0.760744\n",
      "[650]\ttraining's auc: 0.761643\tvalid_1's auc: 0.7608\n",
      "[700]\ttraining's auc: 0.761779\tvalid_1's auc: 0.760855\n",
      "[750]\ttraining's auc: 0.761905\tvalid_1's auc: 0.760904\n",
      "[800]\ttraining's auc: 0.762042\tvalid_1's auc: 0.760969\n",
      "[850]\ttraining's auc: 0.762183\tvalid_1's auc: 0.76103\n",
      "[900]\ttraining's auc: 0.762307\tvalid_1's auc: 0.761078\n",
      "[950]\ttraining's auc: 0.762434\tvalid_1's auc: 0.761126\n",
      "[1000]\ttraining's auc: 0.762549\tvalid_1's auc: 0.761161\n",
      "[1050]\ttraining's auc: 0.762662\tvalid_1's auc: 0.761199\n",
      "[1100]\ttraining's auc: 0.762785\tvalid_1's auc: 0.761238\n",
      "[1150]\ttraining's auc: 0.762915\tvalid_1's auc: 0.76129\n",
      "[1200]\ttraining's auc: 0.763027\tvalid_1's auc: 0.761321\n",
      "[1250]\ttraining's auc: 0.763131\tvalid_1's auc: 0.761347\n",
      "[1300]\ttraining's auc: 0.763245\tvalid_1's auc: 0.76138\n",
      "[1350]\ttraining's auc: 0.763339\tvalid_1's auc: 0.761399\n",
      "[1400]\ttraining's auc: 0.76346\tvalid_1's auc: 0.76144\n",
      "[1450]\ttraining's auc: 0.763578\tvalid_1's auc: 0.761475\n",
      "[1500]\ttraining's auc: 0.763705\tvalid_1's auc: 0.761526\n",
      "Early stopping, best iteration is:\n",
      "[1496]\ttraining's auc: 0.763698\tvalid_1's auc: 0.761526\n"
     ]
    }
   ],
   "source": [
    "#Model\n",
    "#LGBM\n",
    "model = get_lgb(X_train, X_valid, y_train, y_valid)\n"
   ]
  },
  {
   "cell_type": "code",
   "execution_count": 19,
   "metadata": {
    "execution": {
     "iopub.execute_input": "2021-01-31T11:47:12.385795Z",
     "iopub.status.busy": "2021-01-31T11:47:12.384983Z",
     "iopub.status.idle": "2021-01-31T11:47:12.755854Z",
     "shell.execute_reply": "2021-01-31T11:47:12.755027Z"
    },
    "papermill": {
     "duration": 0.415765,
     "end_time": "2021-01-31T11:47:12.755992",
     "exception": false,
     "start_time": "2021-01-31T11:47:12.340227",
     "status": "completed"
    },
    "tags": []
   },
   "outputs": [
    {
     "data": {
      "image/png": "[encoded data removed]",
      "text/plain": [
       "<Figure size 432x288 with 1 Axes>"
      ]
     },
     "metadata": {
      "needs_background": "light"
     },
     "output_type": "display_data"
    }
   ],
   "source": [
    "#Analyzing LGBM Model\n",
    "#Feature importance\n",
    "lgb.plot_importance(model)\n",
    "plt.show()"
   ]
  },
  {
   "cell_type": "code",
   "execution_count": 20,
   "metadata": {
    "execution": {
     "iopub.execute_input": "2021-01-31T11:47:12.824951Z",
     "iopub.status.busy": "2021-01-31T11:47:12.823911Z",
     "iopub.status.idle": "2021-01-31T11:47:12.827376Z",
     "shell.execute_reply": "2021-01-31T11:47:12.826669Z"
    },
    "papermill": {
     "duration": 0.040628,
     "end_time": "2021-01-31T11:47:12.827513",
     "exception": false,
     "start_time": "2021-01-31T11:47:12.786885",
     "status": "completed"
    },
    "tags": []
   },
   "outputs": [],
   "source": [
    "#Initializing env variables\n",
    "env = riiideducation.make_env()\n",
    "iter_test = env.iter_test()"
   ]
  },
  {
   "cell_type": "code",
   "execution_count": 21,
   "metadata": {
    "execution": {
     "iopub.execute_input": "2021-01-31T11:47:12.917887Z",
     "iopub.status.busy": "2021-01-31T11:47:12.917062Z",
     "iopub.status.idle": "2021-01-31T11:47:14.437631Z",
     "shell.execute_reply": "2021-01-31T11:47:14.436904Z"
    },
    "papermill": {
     "duration": 1.579185,
     "end_time": "2021-01-31T11:47:14.437751",
     "exception": false,
     "start_time": "2021-01-31T11:47:12.858566",
     "status": "completed"
    },
    "tags": []
   },
   "outputs": [],
   "source": [
    "#Predictions on test data  \n",
    "\n",
    "for (test_df, sample_prediction_df) in iter_test:\n",
    "    \n",
    "    test_df = test_df.set_index('row_id')\n",
    "    test_copy = test_df.copy()\n",
    "    \n",
    "    test_copy = test_copy.drop(test_copy[test_copy.content_type_id == 1].index,axis = 0)\n",
    "    drop_cols = ['prior_group_answers_correct','prior_group_responses','content_type_id']\n",
    "    test_copy = test_copy.drop(columns = drop_cols,axis = 1)\n",
    "    \n",
    "    test_copy.prior_question_had_explanation = test_copy.prior_question_had_explanation*1 #converting boolian to number\n",
    "\n",
    "    test_questions_X = test_copy.merge(questions_tag_pr,on = 'content_id', how = 'left', suffixes = ('_left', '_right'))\n",
    "    \n",
    "    test_copy_imp = test_questions_X.copy()\n",
    "    test_copy_imp.prior_question_elapsed_time = test_copy_imp.prior_question_elapsed_time.fillna(0)\n",
    "    test_copy_imp.prior_question_had_explanation = test_copy_imp.prior_question_had_explanation.fillna(1)\n",
    "\n",
    "\n",
    "    test_copy_imp = impute_num(test_copy_imp ,num_imp_str)\n",
    "\n",
    "    test_copy_imp = test_copy_imp.merge(user_df,on = 'user_id',how = 'left',suffixes=('_left', '_right'))\n",
    "    test_copy_imp = test_copy_imp.merge(content_df,on = 'content_id',how = 'left',suffixes=('_left', '_right'))\n",
    "    \n",
    "    pred = model.predict(test_copy_imp)\n",
    "    \n",
    "    df = pd.DataFrame({'row_id': test_copy.index, 'answered_correctly': pred})\n",
    "    df = df.set_index('row_id')\n",
    "    test_df = test_df.join(df)\n",
    "    test_df.answered_correctly.fillna(-1, inplace = True)\n",
    "    \n",
    "    \n",
    "    test_df = test_df.reset_index()\n",
    "    env.predict(test_df.loc[test_df['content_type_id'] == 0, ['row_id', 'answered_correctly']])"
   ]
  }
 ],
 "metadata": {
  "kernelspec": {
   "display_name": "Python 3",
   "language": "python",
   "name": "python3"
  },
  "language_info": {
   "codemirror_mode": {
    "name": "ipython",
    "version": 3
   },
   "file_extension": ".py",
   "mimetype": "text/x-python",
   "name": "python",
   "nbconvert_exporter": "python",
   "pygments_lexer": "ipython3",
   "version": "3.7.6"
  },
  "papermill": {
   "duration": 6325.0865,
   "end_time": "2021-01-31T11:47:15.499786",
   "environment_variables": {},
   "exception": null,
   "input_path": "__notebook__.ipynb",
   "output_path": "__notebook__.ipynb",
   "parameters": {},
   "start_time": "2021-01-31T10:01:50.413286",
   "version": "2.1.0"
  }
 },
 "nbformat": 4,
 "nbformat_minor": 4
}
